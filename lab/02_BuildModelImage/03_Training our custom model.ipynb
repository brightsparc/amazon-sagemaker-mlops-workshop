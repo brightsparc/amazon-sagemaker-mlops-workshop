{
 "cells": [
  {
   "cell_type": "markdown",
   "metadata": {},
   "source": [
    "# Now, we can start a new training job\n",
    "\n",
    "We'll send a zip file called **datasource.zip**, with the following structure:\n",
    " - training_data.json (Inputs for the training data)\n",
    " - baseline_data.json (Statistics for the monitoring schedule)"
   ]
  },
  {
   "cell_type": "code",
   "execution_count": null,
   "metadata": {},
   "outputs": [],
   "source": [
    "import time\n",
    "import sagemaker\n",
    "import boto3\n",
    "import os\n",
    "\n",
    "bucket = sagemaker.Session().default_bucket()\n",
    "artifact_bucket = os.environ['ARTIFACT_BUCKET']\n",
    "prefix = os.environ['MODEL_NAME']\n",
    "\n",
    "print('default bucket: {}'.format(bucket))\n",
    "print('artifact bucket: {}'.format(artifact_bucket))"
   ]
  },
  {
   "cell_type": "markdown",
   "metadata": {},
   "source": [
    "###  Upload training data\n",
    "\n",
    "Validate and upload the training and validation datasets to s3"
   ]
  },
  {
   "cell_type": "code",
   "execution_count": null,
   "metadata": {},
   "outputs": [],
   "source": [
    "!ls -R input/data/"
   ]
  },
  {
   "cell_type": "code",
   "execution_count": null,
   "metadata": {},
   "outputs": [],
   "source": [
    "training_uri = sagemaker_session.upload_data(path='input/data/training', key_prefix=prefix+'/input/training')\n",
    "validation_uri = sagemaker_session.upload_data(path='input/data/validation', key_prefix=prefix+'/input/validation')\n",
    "output_uri = 's3://{}/{}'.format(bucket, prefix)\n",
    "\n",
    "print('Training uri: {}'.format(training_uri))\n",
    "print('Validation uri: {}'.format(validation_uri))\n",
    "print('Model output uri: {}'.format(output_uri))"
   ]
  },
  {
   "cell_type": "markdown",
   "metadata": {},
   "source": [
    "### Upload baseline data\n",
    "\n",
    "Validate, and upload the baseline input to s3"
   ]
  },
  {
   "cell_type": "code",
   "execution_count": null,
   "metadata": {
    "scrolled": true
   },
   "outputs": [],
   "source": [
    "# Inspect the output predictions (NOTE: if using scientific format these will be treated as strings)\n",
    "baseline_file = 'output/data/predictions.csv'\n",
    "\n",
    "!head -2 $baseline_file"
   ]
  },
  {
   "cell_type": "code",
   "execution_count": null,
   "metadata": {},
   "outputs": [],
   "source": [
    "baseline_uri = sagemaker_session.upload_data(path=baseline_file, key_prefix=prefix+'/input/baseline')\n",
    "\n",
    "print('Baseline uri: {}'.format(baseline_uri))"
   ]
  },
  {
   "cell_type": "markdown",
   "metadata": {},
   "source": [
    "### Define input data\n",
    "\n",
    "Upload the input data to kick off the training process"
   ]
  },
  {
   "cell_type": "code",
   "execution_count": null,
   "metadata": {},
   "outputs": [],
   "source": [
    "input_data = {\n",
    "    'UpdatedAt': time.time(),\n",
    "    'TrainingUri': training_uri,\n",
    "    'ValidationUri': validation_uri,\n",
    "    'BaselineUri': baseline_uri\n",
    "}"
   ]
  },
  {
   "cell_type": "markdown",
   "metadata": {},
   "source": [
    "## Alright! Now it's time to start the training process¶"
   ]
  },
  {
   "cell_type": "code",
   "execution_count": null,
   "metadata": {},
   "outputs": [],
   "source": [
    "import boto3\n",
    "import io\n",
    "import zipfile\n",
    "import json\n",
    "\n",
    "s3 = boto3.client('s3')\n",
    "\n",
    "key_name = \"data-source.zip\"\n",
    "\n",
    "zip_buffer = io.BytesIO()\n",
    "with zipfile.ZipFile(zip_buffer, 'a') as zf:\n",
    "    zf.writestr('inputData.json', json.dumps(input_data))\n",
    "\n",
    "zip_buffer.seek(0)\n",
    "\n",
    "s3.put_object(Bucket=artifact_bucket, Key=key_name, Body=bytearray(zip_buffer.read()))"
   ]
  },
  {
   "cell_type": "markdown",
   "metadata": {},
   "source": [
    "### Ok, now open the AWS console in another tab and go to the CodePipeline console to see the status of our building pipeline"
   ]
  },
  {
   "cell_type": "markdown",
   "metadata": {},
   "source": [
    "> Finally, click here [NOTEBOOK](04_Check%20Progress%20and%20Test%20the%20endpoint.ipynb) to see the progress and test your endpoint"
   ]
  }
 ],
 "metadata": {
  "kernelspec": {
   "display_name": "conda_python3",
   "language": "python",
   "name": "conda_python3"
  },
  "language_info": {
   "codemirror_mode": {
    "name": "ipython",
    "version": 3
   },
   "file_extension": ".py",
   "mimetype": "text/x-python",
   "name": "python",
   "nbconvert_exporter": "python",
   "pygments_lexer": "ipython3",
   "version": "3.6.5"
  }
 },
 "nbformat": 4,
 "nbformat_minor": 2
}
