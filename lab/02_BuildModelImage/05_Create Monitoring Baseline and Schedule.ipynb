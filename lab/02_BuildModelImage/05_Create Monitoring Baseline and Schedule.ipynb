{
 "cells": [
  {
   "cell_type": "markdown",
   "metadata": {},
   "source": [
    "# Model Baseline and Schedule\n",
    "\n",
    "This notebook will take you through the steps\n",
    "1. Enable real-time inference data capture\n",
    "2. Model Monitor - Baseling\n",
    "3. Analyse initial monitoring schedule\n",
    "4. Create monitoring schedule"
   ]
  },
  {
   "cell_type": "markdown",
   "metadata": {},
   "source": [
    "## Step 1: Enable real-time inference data capture"
   ]
  },
  {
   "cell_type": "markdown",
   "metadata": {},
   "source": [
    "To enable data capture for monitoring the model data quality, you specify the new capture option called `DataCaptureConfig`. \n",
    "\n",
    "You can capture the request payload, the response payload or both with this configuration. The capture config applies to all variants. Please provide the Endpoint name in the following cell:"
   ]
  },
  {
   "cell_type": "code",
   "execution_count": 10,
   "metadata": {},
   "outputs": [],
   "source": [
    "from sagemaker.model_monitor import DataCaptureConfig\n",
    "from sagemaker import RealTimePredictor\n",
    "from sagemaker import session\n",
    "import boto3\n",
    "\n",
    "sm_session = session.Session(boto3.Session())\n",
    "bucket = sm_session.default_bucket()\n",
    "prefix='ludwig-model'"
   ]
  },
  {
   "cell_type": "code",
   "execution_count": 11,
   "metadata": {},
   "outputs": [
    {
     "name": "stdout",
     "output_type": "stream",
     "text": [
      "endpoint name: mlops-iris-model-prd-5edf6063-82ad-436c-a7bc-5406ac661139\n"
     ]
    }
   ],
   "source": [
    "codepipeline = boto3.client('codepipeline')\n",
    "sm = boto3.client('sagemaker')\n",
    "\n",
    "pipeline_name = 'iris-train-pipeline'\n",
    "training_job_name_mask='mlops-iris-model-%s'\n",
    "endpoint_name_mask='mlops-iris-model-%s-%s'\n",
    "\n",
    "# Get the current execution id for the latest succesful prod deploy\n",
    "response = codepipeline.get_pipeline_state( name=pipeline_name )\n",
    "executionId = response['stageStates'][-1]['latestExecution']['pipelineExecutionId']\n",
    "endpoint_name = endpoint_name_mask % ('prd', executionId)\n",
    "print('endpoint name: {}'.format(endpoint_name))"
   ]
  },
  {
   "cell_type": "code",
   "execution_count": 14,
   "metadata": {},
   "outputs": [
    {
     "name": "stdout",
     "output_type": "stream",
     "text": [
      "data capture: s3://sagemaker-ap-southeast-2-691313291965/ludwig-model/datacapture\n"
     ]
    }
   ],
   "source": [
    "s3_capture_prefix = '{}/datacapture'.format(prefix)\n",
    "s3_capture_upload_path = 's3://{}/{}'.format(bucket, s3_capture_prefix)\n",
    "print('data capture: {}'.format(s3_capture_upload_path))"
   ]
  },
  {
   "cell_type": "code",
   "execution_count": 15,
   "metadata": {},
   "outputs": [
    {
     "name": "stdout",
     "output_type": "stream",
     "text": [
      "-------------!"
     ]
    },
    {
     "data": {
      "text/plain": [
       "'mlops-iris-model-prd-8b5901b7-6769-4bba-841e-d60c39bf6d38'"
      ]
     },
     "execution_count": 15,
     "metadata": {},
     "output_type": "execute_result"
    }
   ],
   "source": [
    "from sagemaker.model_monitor import DataCaptureConfig\n",
    "from sagemaker import RealTimePredictor\n",
    "from sagemaker import session\n",
    "from sagemaker.utils import name_from_base\n",
    "\n",
    "import boto3\n",
    "sm_session = session.Session(boto3.Session())\n",
    "\n",
    "# Change parameters as you would like - adjust sampling percentage, \n",
    "#  chose to capture request or response or both.\n",
    "#  Learn more from our documentation\n",
    "data_capture_config = DataCaptureConfig(\n",
    "                        enable_capture = True,\n",
    "                        sampling_percentage=100,\n",
    "                        destination_s3_uri=s3_capture_upload_path,\n",
    "                        kms_key_id=None,\n",
    "                        capture_options=[\"REQUEST\", \"RESPONSE\"],\n",
    "                        csv_content_types=[\"text/csv\"],\n",
    "                        json_content_types=[\"application/json\"])\n",
    "\n",
    "# NOTE: The following doesn't work when created by CFN\n",
    "# # Now it is time to apply the new configuration and wait for it to be applied\n",
    "# predictor = RealTimePredictor(endpoint=endpoint_name)\n",
    "# predictor.update_data_capture_config(data_capture_config=data_capture_config)\n",
    "# sm_session.wait_for_endpoint(endpoint=endpoint_name)\n",
    "\n",
    "endpoint = sm.describe_endpoint(EndpointName=endpoint_name)\n",
    "if endpoint['EndpointStatus'] != 'InService':\n",
    "    raise(Exception('Endpoint not InService'))\n",
    "\n",
    "# Get the current endpoint config\n",
    "endpoint_config_name = endpoint['EndpointConfigName']\n",
    "new_config_name = name_from_base(base=endpoint_config_name)\n",
    "\n",
    "# Create a new config from the existing adding data capture\n",
    "new_tags = [{'Key': 'datacapture', 'Value': 'true'}] \n",
    "sm_session.create_endpoint_config_from_existing(\n",
    "    endpoint_config_name, new_config_name, new_tags=new_tags, \n",
    "    new_data_capture_config_dict=data_capture_config._to_request_dict())\n",
    "\n",
    "# Update the endpoint\n",
    "sm_session.update_endpoint(endpoint_name=endpoint_name, endpoint_config_name=new_config_name)"
   ]
  },
  {
   "cell_type": "markdown",
   "metadata": {},
   "source": [
    "## Step 2: Model Monitor - Baseling"
   ]
  },
  {
   "cell_type": "markdown",
   "metadata": {},
   "source": [
    "In addition to collecting the data, SageMaker allows you to monitor and evaluate the data observed by the Endpoints. \n",
    "\n",
    "For this :\n",
    "1. We need to create a baseline with which we compare the realtime traffic against. \n",
    "1. Once a baseline is ready, we can setup a schedule to continously evaluate/compare against the baseline."
   ]
  },
  {
   "cell_type": "code",
   "execution_count": 125,
   "metadata": {},
   "outputs": [],
   "source": [
    "import pandas as pd\n",
    "\n",
    "baseline_file = 'baselining/data/baseline.csv'\n",
    "df_baseline = pd.read_csv('output/data/predictions.csv')\n",
    "df_baseline.to_csv(baseline_file, index=False, float_format='%.10f') # Persist as floats to support baseline"
   ]
  },
  {
   "cell_type": "code",
   "execution_count": 22,
   "metadata": {},
   "outputs": [
    {
     "name": "stdout",
     "output_type": "stream",
     "text": [
      "class_predictions,class_probabilities_<UNK>,class_probabilities___label__eating_out,class_probabilities___label__groceries,class_probabilities___label__transport,class_probabilities___label__shopping,class_probabilities___label__health,class_probabilities___label__travel,class_probabilities___label__entertainment,class_probabilities___label__education,class_probabilities___label__home,class_probabilities___label__utilities,class_probability\r\n",
      "__label__eating_out,0.0000001458,0.9999519587,0.0000055887,0.0000078400,0.0000031690,0.0000110159,0.0000074479,0.0000102731,0.0000000669,0.0000007465,0.0000017068,0.9999519587\r\n",
      "__label__eating_out,0.0000000002,0.9999959469,0.0000025158,0.0000000159,0.0000000256,0.0000000323,0.0000000065,0.0000012531,0.0000000010,0.0000000378,0.0000002489,0.9999959469\r\n"
     ]
    }
   ],
   "source": [
    "!head -3 $baseline_file"
   ]
  },
  {
   "cell_type": "markdown",
   "metadata": {},
   "source": [
    "### Constraint suggestion with baseline/training dataset\n",
    "\n",
    "Use the output predictions from test dataset to upload as baseline"
   ]
  },
  {
   "cell_type": "code",
   "execution_count": 23,
   "metadata": {},
   "outputs": [
    {
     "name": "stdout",
     "output_type": "stream",
     "text": [
      "Baseline data file: s3://sagemaker-ap-southeast-2-691313291965/baselining/data/baseline.csv\n",
      "Baseline results uri: s3://sagemaker-ap-southeast-2-691313291965/ludwig-model/baselining/results\n"
     ]
    }
   ],
   "source": [
    "# copy over the training dataset to Amazon S3 (if you already have it in Amazon S3, you could reuse it)\n",
    "baseline_prefix = prefix + '/baselining'\n",
    "baseline_results_prefix = baseline_prefix + '/results'\n",
    "\n",
    "baseline_data_uri = 's3://{}/{}'.format(bucket,baseline_file)\n",
    "baseline_results_uri = 's3://{}/{}'.format(bucket, baseline_results_prefix)\n",
    "print('Baseline data file: {}'.format(baseline_data_uri))\n",
    "print('Baseline results uri: {}'.format(baseline_results_uri))"
   ]
  },
  {
   "cell_type": "code",
   "execution_count": 24,
   "metadata": {},
   "outputs": [
    {
     "name": "stdout",
     "output_type": "stream",
     "text": [
      "Uploaded baseline: baselining/data/baseline.csv\n"
     ]
    }
   ],
   "source": [
    "boto3.Session().resource('s3').Bucket(bucket).Object(baseline_file).upload_file(baseline_file)\n",
    "print('Uploaded baseline: {}'.format(baseline_file))"
   ]
  },
  {
   "cell_type": "markdown",
   "metadata": {},
   "source": [
    "### Create a baselining job with the training dataset"
   ]
  },
  {
   "cell_type": "markdown",
   "metadata": {},
   "source": [
    "Now that we have the training data ready in S3, let's kick off a job to `suggest` constraints. `DefaultModelMonitor.suggest_baseline(..)` kicks off a `ProcessingJob` using a SageMaker provided Model Monitor container to generate the constraints. Please edit the configurations to fit your needs."
   ]
  },
  {
   "cell_type": "code",
   "execution_count": null,
   "metadata": {},
   "outputs": [
    {
     "name": "stdout",
     "output_type": "stream",
     "text": [
      "\n",
      "Job Name:  baseline-suggestion-job-2020-02-24-14-22-44-653\n",
      "Inputs:  [{'InputName': 'baseline_dataset_input', 'S3Input': {'S3Uri': 's3://sagemaker-ap-southeast-2-691313291965/baselining/data/baseline.csv', 'LocalPath': '/opt/ml/processing/input/baseline_dataset_input', 'S3DataType': 'S3Prefix', 'S3InputMode': 'File', 'S3DataDistributionType': 'FullyReplicated', 'S3CompressionType': 'None'}}]\n",
      "Outputs:  [{'OutputName': 'monitoring_output', 'S3Output': {'S3Uri': 's3://sagemaker-ap-southeast-2-691313291965/ludwig-model/baselining/results', 'LocalPath': '/opt/ml/processing/output', 'S3UploadMode': 'EndOfJob'}}]\n",
      "...."
     ]
    }
   ],
   "source": [
    "from sagemaker.model_monitor import DefaultModelMonitor\n",
    "from sagemaker.model_monitor.dataset_format import DatasetFormat\n",
    "from sagemaker import get_execution_role\n",
    "\n",
    "role = get_execution_role()\n",
    "\n",
    "my_default_monitor = DefaultModelMonitor(\n",
    "    role=role,a\n",
    "    instance_count=1,\n",
    "    instance_type='ml.m5.xlarge',\n",
    "    volume_size_in_gb=20,\n",
    "    max_runtime_in_seconds=3600,\n",
    ")\n",
    "\n",
    "my_default_monitor.suggest_baseline(\n",
    "    baseline_dataset=baseline_data_uri,\n",
    "    dataset_format=DatasetFormat.csv(header=True),\n",
    "    output_s3_uri=baseline_results_uri,\n",
    "    wait=True\n",
    ")"
   ]
  },
  {
   "cell_type": "code",
   "execution_count": null,
   "metadata": {},
   "outputs": [],
   "source": [
    "# schedule_name = 'mlops-iris-model-prd-4650d8fb-8fde-4d44-a07b-9cf659725197'\n",
    "# my_default_monitor = DefaultModelMonitor.attach(schedule_name)\n",
    "# my_default_monitor.describe_schedule()"
   ]
  },
  {
   "cell_type": "markdown",
   "metadata": {},
   "source": [
    "### Explore the generated constraints and statistics"
   ]
  },
  {
   "cell_type": "code",
   "execution_count": null,
   "metadata": {},
   "outputs": [],
   "source": [
    "baseline_job = my_default_monitor.latest_baselining_job\n",
    "schema_df = pd.io.json.json_normalize(baseline_job.baseline_statistics().body_dict[\"features\"])\n",
    "schema_df.head(10)"
   ]
  },
  {
   "cell_type": "code",
   "execution_count": null,
   "metadata": {},
   "outputs": [],
   "source": [
    "constraints_df = pd.io.json.json_normalize(baseline_job.suggested_constraints().body_dict[\"features\"])\n",
    "constraints_df.head(10)"
   ]
  },
  {
   "cell_type": "markdown",
   "metadata": {},
   "source": [
    "Before proceeding to enable monitoring, you could chose to edit the constraint file as required to fine tune the constraints."
   ]
  },
  {
   "cell_type": "markdown",
   "metadata": {},
   "source": [
    "## Step 3: Analyse initial monitoring schedule\n",
    "\n",
    "We have collected the data above, here we proceed to analyze and monitor the data with MonitoringSchedules.\n",
    "\n",
    "Start with sending some different data so that we can then process the data capture in monitoring"
   ]
  },
  {
   "cell_type": "code",
   "execution_count": 168,
   "metadata": {},
   "outputs": [],
   "source": [
    "sm_runtime = boto3.client('sagemaker-runtime')\n",
    "\n",
    "def test_endpoint(endpoint_name, payload):\n",
    "    resp = sm_runtime.invoke_endpoint(\n",
    "        EndpointName=endpoint_name,\n",
    "        Body=payload,\n",
    "        ContentType='text/csv'\n",
    "    )\n",
    "    return resp['Body'].read()"
   ]
  },
  {
   "cell_type": "code",
   "execution_count": 220,
   "metadata": {},
   "outputs": [],
   "source": [
    "import pandas as pd\n",
    "\n",
    "# Load sample data\n",
    "monitor_sample = [\n",
    "# Define some typical data\n",
    "    'cool asian food pty melbourne au', # eathing out\n",
    "    'woolworths 3188 brunswick au', # groceries\n",
    "    'airbnb * blaa surry hills au', # travel\n",
    "    'lido cinemas hawthorn au', # entertainment\n",
    "    'northcote indoor spo thornbury au', # health\n",
    "# Define some data which is out of bounds of usual sample\n",
    "    'one',\n",
    "    'one two',\n",
    "    'one two three',\n",
    "    '1',\n",
    "    '2',\n",
    "    '3',\n",
    "    'fdkslfjkdlsjfkdsfkldjsklfmdskfjkdlsjfkldsjfkldsjfkldsjklfjsdkjfklds',\n",
    "    'this is a very long sentance that should skew the character and word count',\n",
    "]"
   ]
  },
  {
   "cell_type": "code",
   "execution_count": 225,
   "metadata": {},
   "outputs": [
    {
     "name": "stderr",
     "output_type": "stream",
     "text": [
      "\n",
      "  0%|          | 0/100 [00:00<?, ?it/s]\u001b[A\n",
      "  1%|          | 1/100 [00:01<02:04,  1.26s/it]\u001b[A\n",
      "  2%|▏         | 2/100 [00:01<01:37,  1.00it/s]\u001b[A\n",
      "  3%|▎         | 3/100 [00:01<01:16,  1.28it/s]\u001b[A\n",
      "  4%|▍         | 4/100 [00:02<01:00,  1.59it/s]\u001b[A\n",
      "  5%|▌         | 5/100 [00:02<00:52,  1.82it/s]\u001b[A\n",
      "  6%|▌         | 6/100 [00:02<00:43,  2.16it/s]\u001b[A\n",
      "  7%|▋         | 7/100 [00:03<00:39,  2.36it/s]\u001b[A\n",
      "  8%|▊         | 8/100 [00:03<00:38,  2.40it/s]\u001b[A\n",
      "  9%|▉         | 9/100 [00:03<00:34,  2.66it/s]\u001b[A\n",
      " 10%|█         | 10/100 [00:04<00:31,  2.90it/s]\u001b[A\n",
      " 11%|█         | 11/100 [00:04<00:28,  3.12it/s]\u001b[A\n",
      " 12%|█▏        | 12/100 [00:04<00:27,  3.22it/s]\u001b[A\n",
      " 13%|█▎        | 13/100 [00:04<00:25,  3.38it/s]\u001b[A\n",
      " 14%|█▍        | 14/100 [00:05<00:24,  3.55it/s]\u001b[A\n",
      " 15%|█▌        | 15/100 [00:05<00:23,  3.63it/s]\u001b[A\n",
      " 16%|█▌        | 16/100 [00:05<00:22,  3.73it/s]\u001b[A\n",
      " 17%|█▋        | 17/100 [00:05<00:22,  3.75it/s]\u001b[A\n",
      " 18%|█▊        | 18/100 [00:06<00:21,  3.83it/s]\u001b[A\n",
      " 19%|█▉        | 19/100 [00:06<00:21,  3.82it/s]\u001b[A\n",
      " 20%|██        | 20/100 [00:06<00:21,  3.78it/s]\u001b[A\n",
      " 21%|██        | 21/100 [00:06<00:20,  3.89it/s]\u001b[A\n",
      " 22%|██▏       | 22/100 [00:07<00:19,  3.92it/s]\u001b[A\n",
      " 23%|██▎       | 23/100 [00:07<00:19,  3.94it/s]\u001b[A\n",
      " 24%|██▍       | 24/100 [00:07<00:19,  3.98it/s]\u001b[A\n",
      " 25%|██▌       | 25/100 [00:08<00:21,  3.55it/s]\u001b[A\n",
      " 26%|██▌       | 26/100 [00:08<00:20,  3.56it/s]\u001b[A\n",
      " 27%|██▋       | 27/100 [00:08<00:19,  3.67it/s]\u001b[A\n",
      " 28%|██▊       | 28/100 [00:08<00:20,  3.47it/s]\u001b[A\n",
      " 29%|██▉       | 29/100 [00:09<00:20,  3.48it/s]\u001b[A\n",
      " 30%|███       | 30/100 [00:09<00:19,  3.62it/s]\u001b[A\n",
      " 31%|███       | 31/100 [00:09<00:18,  3.66it/s]\u001b[A\n",
      " 32%|███▏      | 32/100 [00:09<00:18,  3.72it/s]\u001b[A\n",
      " 33%|███▎      | 33/100 [00:10<00:17,  3.78it/s]\u001b[A\n",
      " 34%|███▍      | 34/100 [00:10<00:18,  3.48it/s]\u001b[A\n",
      " 35%|███▌      | 35/100 [00:11<00:23,  2.75it/s]\u001b[A\n",
      " 36%|███▌      | 36/100 [00:11<00:23,  2.70it/s]\u001b[A\n",
      " 37%|███▋      | 37/100 [00:11<00:22,  2.85it/s]\u001b[A\n",
      " 38%|███▊      | 38/100 [00:12<00:21,  2.89it/s]\u001b[A\n",
      " 39%|███▉      | 39/100 [00:12<00:20,  2.96it/s]\u001b[A\n",
      " 40%|████      | 40/100 [00:12<00:20,  2.92it/s]\u001b[A\n",
      " 41%|████      | 41/100 [00:13<00:19,  3.03it/s]\u001b[A\n",
      " 42%|████▏     | 42/100 [00:13<00:18,  3.05it/s]\u001b[A\n",
      " 43%|████▎     | 43/100 [00:13<00:18,  3.06it/s]\u001b[A\n",
      " 44%|████▍     | 44/100 [00:14<00:19,  2.94it/s]\u001b[A\n",
      " 45%|████▌     | 45/100 [00:14<00:18,  2.98it/s]\u001b[A\n",
      " 46%|████▌     | 46/100 [00:14<00:17,  3.03it/s]\u001b[A\n",
      " 47%|████▋     | 47/100 [00:15<00:17,  3.09it/s]\u001b[A\n",
      " 48%|████▊     | 48/100 [00:15<00:16,  3.15it/s]\u001b[A\n",
      " 49%|████▉     | 49/100 [00:15<00:16,  3.09it/s]\u001b[A"
     ]
    },
    {
     "ename": "KeyboardInterrupt",
     "evalue": "",
     "output_type": "error",
     "traceback": [
      "\u001b[0;31m---------------------------------------------------------------------------\u001b[0m",
      "\u001b[0;31mTypeError\u001b[0m                                 Traceback (most recent call last)",
      "\u001b[0;32m~/anaconda3/envs/python3/lib/python3.6/site-packages/urllib3/connectionpool.py\u001b[0m in \u001b[0;36m_make_request\u001b[0;34m(self, conn, method, url, timeout, chunked, **httplib_request_kw)\u001b[0m\n\u001b[1;32m    376\u001b[0m             \u001b[0;32mtry\u001b[0m\u001b[0;34m:\u001b[0m  \u001b[0;31m# Python 2.7, use buffering of HTTP responses\u001b[0m\u001b[0;34m\u001b[0m\u001b[0m\n\u001b[0;32m--> 377\u001b[0;31m                 \u001b[0mhttplib_response\u001b[0m \u001b[0;34m=\u001b[0m \u001b[0mconn\u001b[0m\u001b[0;34m.\u001b[0m\u001b[0mgetresponse\u001b[0m\u001b[0;34m(\u001b[0m\u001b[0mbuffering\u001b[0m\u001b[0;34m=\u001b[0m\u001b[0;32mTrue\u001b[0m\u001b[0;34m)\u001b[0m\u001b[0;34m\u001b[0m\u001b[0m\n\u001b[0m\u001b[1;32m    378\u001b[0m             \u001b[0;32mexcept\u001b[0m \u001b[0mTypeError\u001b[0m\u001b[0;34m:\u001b[0m  \u001b[0;31m# Python 2.6 and older, Python 3\u001b[0m\u001b[0;34m\u001b[0m\u001b[0m\n",
      "\u001b[0;31mTypeError\u001b[0m: getresponse() got an unexpected keyword argument 'buffering'",
      "\nDuring handling of the above exception, another exception occurred:\n",
      "\u001b[0;31mKeyboardInterrupt\u001b[0m                         Traceback (most recent call last)",
      "\u001b[0;32m<ipython-input-225-6bf4891dca1a>\u001b[0m in \u001b[0;36m<module>\u001b[0;34m()\u001b[0m\n\u001b[1;32m      7\u001b[0m     \u001b[0;32mfor\u001b[0m \u001b[0msample\u001b[0m \u001b[0;32min\u001b[0m \u001b[0mmonitor_sample\u001b[0m\u001b[0;34m:\u001b[0m\u001b[0;34m\u001b[0m\u001b[0m\n\u001b[1;32m      8\u001b[0m         \u001b[0mpayload\u001b[0m \u001b[0;34m=\u001b[0m \u001b[0;34m'\\n'\u001b[0m\u001b[0;34m.\u001b[0m\u001b[0mjoin\u001b[0m\u001b[0;34m(\u001b[0m\u001b[0mheader\u001b[0m\u001b[0;34m+\u001b[0m\u001b[0;34m[\u001b[0m\u001b[0msample\u001b[0m\u001b[0;34m]\u001b[0m\u001b[0;34m)\u001b[0m\u001b[0;34m.\u001b[0m\u001b[0mencode\u001b[0m\u001b[0;34m(\u001b[0m\u001b[0;34m'utf-8'\u001b[0m\u001b[0;34m)\u001b[0m\u001b[0;34m\u001b[0m\u001b[0m\n\u001b[0;32m----> 9\u001b[0;31m         \u001b[0mresp\u001b[0m \u001b[0;34m+=\u001b[0m \u001b[0mtest_endpoint\u001b[0m\u001b[0;34m(\u001b[0m\u001b[0mendpoint_name\u001b[0m\u001b[0;34m,\u001b[0m \u001b[0mpayload\u001b[0m\u001b[0;34m)\u001b[0m\u001b[0;34m.\u001b[0m\u001b[0mdecode\u001b[0m\u001b[0;34m(\u001b[0m\u001b[0;34m'utf-8'\u001b[0m\u001b[0;34m)\u001b[0m\u001b[0;34m\u001b[0m\u001b[0m\n\u001b[0m\u001b[1;32m     10\u001b[0m \u001b[0;34m\u001b[0m\u001b[0m\n\u001b[1;32m     11\u001b[0m \u001b[0mlen\u001b[0m\u001b[0;34m(\u001b[0m\u001b[0mresp\u001b[0m\u001b[0;34m)\u001b[0m\u001b[0;34m\u001b[0m\u001b[0m\n",
      "\u001b[0;32m<ipython-input-168-f88589de179c>\u001b[0m in \u001b[0;36mtest_endpoint\u001b[0;34m(endpoint_name, payload)\u001b[0m\n\u001b[1;32m      5\u001b[0m         \u001b[0mEndpointName\u001b[0m\u001b[0;34m=\u001b[0m\u001b[0mendpoint_name\u001b[0m\u001b[0;34m,\u001b[0m\u001b[0;34m\u001b[0m\u001b[0m\n\u001b[1;32m      6\u001b[0m         \u001b[0mBody\u001b[0m\u001b[0;34m=\u001b[0m\u001b[0mpayload\u001b[0m\u001b[0;34m,\u001b[0m\u001b[0;34m\u001b[0m\u001b[0m\n\u001b[0;32m----> 7\u001b[0;31m         \u001b[0mContentType\u001b[0m\u001b[0;34m=\u001b[0m\u001b[0;34m'text/csv'\u001b[0m\u001b[0;34m\u001b[0m\u001b[0m\n\u001b[0m\u001b[1;32m      8\u001b[0m     )\n\u001b[1;32m      9\u001b[0m     \u001b[0;32mreturn\u001b[0m \u001b[0mresp\u001b[0m\u001b[0;34m[\u001b[0m\u001b[0;34m'Body'\u001b[0m\u001b[0;34m]\u001b[0m\u001b[0;34m.\u001b[0m\u001b[0mread\u001b[0m\u001b[0;34m(\u001b[0m\u001b[0;34m)\u001b[0m\u001b[0;34m\u001b[0m\u001b[0m\n",
      "\u001b[0;32m~/anaconda3/envs/python3/lib/python3.6/site-packages/botocore/client.py\u001b[0m in \u001b[0;36m_api_call\u001b[0;34m(self, *args, **kwargs)\u001b[0m\n\u001b[1;32m    274\u001b[0m                     \"%s() only accepts keyword arguments.\" % py_operation_name)\n\u001b[1;32m    275\u001b[0m             \u001b[0;31m# The \"self\" in this scope is referring to the BaseClient.\u001b[0m\u001b[0;34m\u001b[0m\u001b[0;34m\u001b[0m\u001b[0m\n\u001b[0;32m--> 276\u001b[0;31m             \u001b[0;32mreturn\u001b[0m \u001b[0mself\u001b[0m\u001b[0;34m.\u001b[0m\u001b[0m_make_api_call\u001b[0m\u001b[0;34m(\u001b[0m\u001b[0moperation_name\u001b[0m\u001b[0;34m,\u001b[0m \u001b[0mkwargs\u001b[0m\u001b[0;34m)\u001b[0m\u001b[0;34m\u001b[0m\u001b[0m\n\u001b[0m\u001b[1;32m    277\u001b[0m \u001b[0;34m\u001b[0m\u001b[0m\n\u001b[1;32m    278\u001b[0m         \u001b[0m_api_call\u001b[0m\u001b[0;34m.\u001b[0m\u001b[0m__name__\u001b[0m \u001b[0;34m=\u001b[0m \u001b[0mstr\u001b[0m\u001b[0;34m(\u001b[0m\u001b[0mpy_operation_name\u001b[0m\u001b[0;34m)\u001b[0m\u001b[0;34m\u001b[0m\u001b[0m\n",
      "\u001b[0;32m~/anaconda3/envs/python3/lib/python3.6/site-packages/botocore/client.py\u001b[0m in \u001b[0;36m_make_api_call\u001b[0;34m(self, operation_name, api_params)\u001b[0m\n\u001b[1;32m    571\u001b[0m         \u001b[0;32melse\u001b[0m\u001b[0;34m:\u001b[0m\u001b[0;34m\u001b[0m\u001b[0m\n\u001b[1;32m    572\u001b[0m             http, parsed_response = self._make_request(\n\u001b[0;32m--> 573\u001b[0;31m                 operation_model, request_dict, request_context)\n\u001b[0m\u001b[1;32m    574\u001b[0m \u001b[0;34m\u001b[0m\u001b[0m\n\u001b[1;32m    575\u001b[0m         self.meta.events.emit(\n",
      "\u001b[0;32m~/anaconda3/envs/python3/lib/python3.6/site-packages/botocore/client.py\u001b[0m in \u001b[0;36m_make_request\u001b[0;34m(self, operation_model, request_dict, request_context)\u001b[0m\n\u001b[1;32m    590\u001b[0m     \u001b[0;32mdef\u001b[0m \u001b[0m_make_request\u001b[0m\u001b[0;34m(\u001b[0m\u001b[0mself\u001b[0m\u001b[0;34m,\u001b[0m \u001b[0moperation_model\u001b[0m\u001b[0;34m,\u001b[0m \u001b[0mrequest_dict\u001b[0m\u001b[0;34m,\u001b[0m \u001b[0mrequest_context\u001b[0m\u001b[0;34m)\u001b[0m\u001b[0;34m:\u001b[0m\u001b[0;34m\u001b[0m\u001b[0m\n\u001b[1;32m    591\u001b[0m         \u001b[0;32mtry\u001b[0m\u001b[0;34m:\u001b[0m\u001b[0;34m\u001b[0m\u001b[0m\n\u001b[0;32m--> 592\u001b[0;31m             \u001b[0;32mreturn\u001b[0m \u001b[0mself\u001b[0m\u001b[0;34m.\u001b[0m\u001b[0m_endpoint\u001b[0m\u001b[0;34m.\u001b[0m\u001b[0mmake_request\u001b[0m\u001b[0;34m(\u001b[0m\u001b[0moperation_model\u001b[0m\u001b[0;34m,\u001b[0m \u001b[0mrequest_dict\u001b[0m\u001b[0;34m)\u001b[0m\u001b[0;34m\u001b[0m\u001b[0m\n\u001b[0m\u001b[1;32m    593\u001b[0m         \u001b[0;32mexcept\u001b[0m \u001b[0mException\u001b[0m \u001b[0;32mas\u001b[0m \u001b[0me\u001b[0m\u001b[0;34m:\u001b[0m\u001b[0;34m\u001b[0m\u001b[0m\n\u001b[1;32m    594\u001b[0m             self.meta.events.emit(\n",
      "\u001b[0;32m~/anaconda3/envs/python3/lib/python3.6/site-packages/botocore/endpoint.py\u001b[0m in \u001b[0;36mmake_request\u001b[0;34m(self, operation_model, request_dict)\u001b[0m\n\u001b[1;32m    100\u001b[0m         logger.debug(\"Making request for %s with params: %s\",\n\u001b[1;32m    101\u001b[0m                      operation_model, request_dict)\n\u001b[0;32m--> 102\u001b[0;31m         \u001b[0;32mreturn\u001b[0m \u001b[0mself\u001b[0m\u001b[0;34m.\u001b[0m\u001b[0m_send_request\u001b[0m\u001b[0;34m(\u001b[0m\u001b[0mrequest_dict\u001b[0m\u001b[0;34m,\u001b[0m \u001b[0moperation_model\u001b[0m\u001b[0;34m)\u001b[0m\u001b[0;34m\u001b[0m\u001b[0m\n\u001b[0m\u001b[1;32m    103\u001b[0m \u001b[0;34m\u001b[0m\u001b[0m\n\u001b[1;32m    104\u001b[0m     \u001b[0;32mdef\u001b[0m \u001b[0mcreate_request\u001b[0m\u001b[0;34m(\u001b[0m\u001b[0mself\u001b[0m\u001b[0;34m,\u001b[0m \u001b[0mparams\u001b[0m\u001b[0;34m,\u001b[0m \u001b[0moperation_model\u001b[0m\u001b[0;34m=\u001b[0m\u001b[0;32mNone\u001b[0m\u001b[0;34m)\u001b[0m\u001b[0;34m:\u001b[0m\u001b[0;34m\u001b[0m\u001b[0m\n",
      "\u001b[0;32m~/anaconda3/envs/python3/lib/python3.6/site-packages/botocore/endpoint.py\u001b[0m in \u001b[0;36m_send_request\u001b[0;34m(self, request_dict, operation_model)\u001b[0m\n\u001b[1;32m    133\u001b[0m         \u001b[0mcontext\u001b[0m \u001b[0;34m=\u001b[0m \u001b[0mrequest_dict\u001b[0m\u001b[0;34m[\u001b[0m\u001b[0;34m'context'\u001b[0m\u001b[0;34m]\u001b[0m\u001b[0;34m\u001b[0m\u001b[0m\n\u001b[1;32m    134\u001b[0m         success_response, exception = self._get_response(\n\u001b[0;32m--> 135\u001b[0;31m             request, operation_model, context)\n\u001b[0m\u001b[1;32m    136\u001b[0m         while self._needs_retry(attempts, operation_model, request_dict,\n\u001b[1;32m    137\u001b[0m                                 success_response, exception):\n",
      "\u001b[0;32m~/anaconda3/envs/python3/lib/python3.6/site-packages/botocore/endpoint.py\u001b[0m in \u001b[0;36m_get_response\u001b[0;34m(self, request, operation_model, context)\u001b[0m\n\u001b[1;32m    165\u001b[0m         \u001b[0;31m# If no exception occurs then exception is None.\u001b[0m\u001b[0;34m\u001b[0m\u001b[0;34m\u001b[0m\u001b[0m\n\u001b[1;32m    166\u001b[0m         success_response, exception = self._do_get_response(\n\u001b[0;32m--> 167\u001b[0;31m             request, operation_model)\n\u001b[0m\u001b[1;32m    168\u001b[0m         kwargs_to_emit = {\n\u001b[1;32m    169\u001b[0m             \u001b[0;34m'response_dict'\u001b[0m\u001b[0;34m:\u001b[0m \u001b[0;32mNone\u001b[0m\u001b[0;34m,\u001b[0m\u001b[0;34m\u001b[0m\u001b[0m\n",
      "\u001b[0;32m~/anaconda3/envs/python3/lib/python3.6/site-packages/botocore/endpoint.py\u001b[0m in \u001b[0;36m_do_get_response\u001b[0;34m(self, request, operation_model)\u001b[0m\n\u001b[1;32m    198\u001b[0m             \u001b[0mhttp_response\u001b[0m \u001b[0;34m=\u001b[0m \u001b[0mfirst_non_none_response\u001b[0m\u001b[0;34m(\u001b[0m\u001b[0mresponses\u001b[0m\u001b[0;34m)\u001b[0m\u001b[0;34m\u001b[0m\u001b[0m\n\u001b[1;32m    199\u001b[0m             \u001b[0;32mif\u001b[0m \u001b[0mhttp_response\u001b[0m \u001b[0;32mis\u001b[0m \u001b[0;32mNone\u001b[0m\u001b[0;34m:\u001b[0m\u001b[0;34m\u001b[0m\u001b[0m\n\u001b[0;32m--> 200\u001b[0;31m                 \u001b[0mhttp_response\u001b[0m \u001b[0;34m=\u001b[0m \u001b[0mself\u001b[0m\u001b[0;34m.\u001b[0m\u001b[0m_send\u001b[0m\u001b[0;34m(\u001b[0m\u001b[0mrequest\u001b[0m\u001b[0;34m)\u001b[0m\u001b[0;34m\u001b[0m\u001b[0m\n\u001b[0m\u001b[1;32m    201\u001b[0m         \u001b[0;32mexcept\u001b[0m \u001b[0mHTTPClientError\u001b[0m \u001b[0;32mas\u001b[0m \u001b[0me\u001b[0m\u001b[0;34m:\u001b[0m\u001b[0;34m\u001b[0m\u001b[0m\n\u001b[1;32m    202\u001b[0m             \u001b[0;32mreturn\u001b[0m \u001b[0;34m(\u001b[0m\u001b[0;32mNone\u001b[0m\u001b[0;34m,\u001b[0m \u001b[0me\u001b[0m\u001b[0;34m)\u001b[0m\u001b[0;34m\u001b[0m\u001b[0m\n",
      "\u001b[0;32m~/anaconda3/envs/python3/lib/python3.6/site-packages/botocore/endpoint.py\u001b[0m in \u001b[0;36m_send\u001b[0;34m(self, request)\u001b[0m\n\u001b[1;32m    242\u001b[0m \u001b[0;34m\u001b[0m\u001b[0m\n\u001b[1;32m    243\u001b[0m     \u001b[0;32mdef\u001b[0m \u001b[0m_send\u001b[0m\u001b[0;34m(\u001b[0m\u001b[0mself\u001b[0m\u001b[0;34m,\u001b[0m \u001b[0mrequest\u001b[0m\u001b[0;34m)\u001b[0m\u001b[0;34m:\u001b[0m\u001b[0;34m\u001b[0m\u001b[0m\n\u001b[0;32m--> 244\u001b[0;31m         \u001b[0;32mreturn\u001b[0m \u001b[0mself\u001b[0m\u001b[0;34m.\u001b[0m\u001b[0mhttp_session\u001b[0m\u001b[0;34m.\u001b[0m\u001b[0msend\u001b[0m\u001b[0;34m(\u001b[0m\u001b[0mrequest\u001b[0m\u001b[0;34m)\u001b[0m\u001b[0;34m\u001b[0m\u001b[0m\n\u001b[0m\u001b[1;32m    245\u001b[0m \u001b[0;34m\u001b[0m\u001b[0m\n\u001b[1;32m    246\u001b[0m \u001b[0;34m\u001b[0m\u001b[0m\n",
      "\u001b[0;32m~/anaconda3/envs/python3/lib/python3.6/site-packages/botocore/httpsession.py\u001b[0m in \u001b[0;36msend\u001b[0;34m(self, request)\u001b[0m\n\u001b[1;32m    261\u001b[0m                 \u001b[0mpreload_content\u001b[0m\u001b[0;34m=\u001b[0m\u001b[0;32mFalse\u001b[0m\u001b[0;34m,\u001b[0m\u001b[0;34m\u001b[0m\u001b[0m\n\u001b[1;32m    262\u001b[0m                 \u001b[0mdecode_content\u001b[0m\u001b[0;34m=\u001b[0m\u001b[0;32mFalse\u001b[0m\u001b[0;34m,\u001b[0m\u001b[0;34m\u001b[0m\u001b[0m\n\u001b[0;32m--> 263\u001b[0;31m                 \u001b[0mchunked\u001b[0m\u001b[0;34m=\u001b[0m\u001b[0mself\u001b[0m\u001b[0;34m.\u001b[0m\u001b[0m_chunked\u001b[0m\u001b[0;34m(\u001b[0m\u001b[0mrequest\u001b[0m\u001b[0;34m.\u001b[0m\u001b[0mheaders\u001b[0m\u001b[0;34m)\u001b[0m\u001b[0;34m,\u001b[0m\u001b[0;34m\u001b[0m\u001b[0m\n\u001b[0m\u001b[1;32m    264\u001b[0m             )\n\u001b[1;32m    265\u001b[0m \u001b[0;34m\u001b[0m\u001b[0m\n",
      "\u001b[0;32m~/anaconda3/envs/python3/lib/python3.6/site-packages/urllib3/connectionpool.py\u001b[0m in \u001b[0;36murlopen\u001b[0;34m(self, method, url, body, headers, retries, redirect, assert_same_host, timeout, pool_timeout, release_conn, chunked, body_pos, **response_kw)\u001b[0m\n\u001b[1;32m    598\u001b[0m                                                   \u001b[0mtimeout\u001b[0m\u001b[0;34m=\u001b[0m\u001b[0mtimeout_obj\u001b[0m\u001b[0;34m,\u001b[0m\u001b[0;34m\u001b[0m\u001b[0m\n\u001b[1;32m    599\u001b[0m                                                   \u001b[0mbody\u001b[0m\u001b[0;34m=\u001b[0m\u001b[0mbody\u001b[0m\u001b[0;34m,\u001b[0m \u001b[0mheaders\u001b[0m\u001b[0;34m=\u001b[0m\u001b[0mheaders\u001b[0m\u001b[0;34m,\u001b[0m\u001b[0;34m\u001b[0m\u001b[0m\n\u001b[0;32m--> 600\u001b[0;31m                                                   chunked=chunked)\n\u001b[0m\u001b[1;32m    601\u001b[0m \u001b[0;34m\u001b[0m\u001b[0m\n\u001b[1;32m    602\u001b[0m             \u001b[0;31m# If we're going to release the connection in ``finally:``, then\u001b[0m\u001b[0;34m\u001b[0m\u001b[0;34m\u001b[0m\u001b[0m\n",
      "\u001b[0;32m~/anaconda3/envs/python3/lib/python3.6/site-packages/urllib3/connectionpool.py\u001b[0m in \u001b[0;36m_make_request\u001b[0;34m(self, conn, method, url, timeout, chunked, **httplib_request_kw)\u001b[0m\n\u001b[1;32m    378\u001b[0m             \u001b[0;32mexcept\u001b[0m \u001b[0mTypeError\u001b[0m\u001b[0;34m:\u001b[0m  \u001b[0;31m# Python 2.6 and older, Python 3\u001b[0m\u001b[0;34m\u001b[0m\u001b[0m\n\u001b[1;32m    379\u001b[0m                 \u001b[0;32mtry\u001b[0m\u001b[0;34m:\u001b[0m\u001b[0;34m\u001b[0m\u001b[0m\n\u001b[0;32m--> 380\u001b[0;31m                     \u001b[0mhttplib_response\u001b[0m \u001b[0;34m=\u001b[0m \u001b[0mconn\u001b[0m\u001b[0;34m.\u001b[0m\u001b[0mgetresponse\u001b[0m\u001b[0;34m(\u001b[0m\u001b[0;34m)\u001b[0m\u001b[0;34m\u001b[0m\u001b[0m\n\u001b[0m\u001b[1;32m    381\u001b[0m                 \u001b[0;32mexcept\u001b[0m \u001b[0mException\u001b[0m \u001b[0;32mas\u001b[0m \u001b[0me\u001b[0m\u001b[0;34m:\u001b[0m\u001b[0;34m\u001b[0m\u001b[0m\n\u001b[1;32m    382\u001b[0m                     \u001b[0;31m# Remove the TypeError from the exception chain in Python 3;\u001b[0m\u001b[0;34m\u001b[0m\u001b[0;34m\u001b[0m\u001b[0m\n",
      "\u001b[0;32m~/anaconda3/envs/python3/lib/python3.6/http/client.py\u001b[0m in \u001b[0;36mgetresponse\u001b[0;34m(self)\u001b[0m\n\u001b[1;32m   1329\u001b[0m         \u001b[0;32mtry\u001b[0m\u001b[0;34m:\u001b[0m\u001b[0;34m\u001b[0m\u001b[0m\n\u001b[1;32m   1330\u001b[0m             \u001b[0;32mtry\u001b[0m\u001b[0;34m:\u001b[0m\u001b[0;34m\u001b[0m\u001b[0m\n\u001b[0;32m-> 1331\u001b[0;31m                 \u001b[0mresponse\u001b[0m\u001b[0;34m.\u001b[0m\u001b[0mbegin\u001b[0m\u001b[0;34m(\u001b[0m\u001b[0;34m)\u001b[0m\u001b[0;34m\u001b[0m\u001b[0m\n\u001b[0m\u001b[1;32m   1332\u001b[0m             \u001b[0;32mexcept\u001b[0m \u001b[0mConnectionError\u001b[0m\u001b[0;34m:\u001b[0m\u001b[0;34m\u001b[0m\u001b[0m\n\u001b[1;32m   1333\u001b[0m                 \u001b[0mself\u001b[0m\u001b[0;34m.\u001b[0m\u001b[0mclose\u001b[0m\u001b[0;34m(\u001b[0m\u001b[0;34m)\u001b[0m\u001b[0;34m\u001b[0m\u001b[0m\n",
      "\u001b[0;32m~/anaconda3/envs/python3/lib/python3.6/http/client.py\u001b[0m in \u001b[0;36mbegin\u001b[0;34m(self)\u001b[0m\n\u001b[1;32m    295\u001b[0m         \u001b[0;31m# read until we get a non-100 response\u001b[0m\u001b[0;34m\u001b[0m\u001b[0;34m\u001b[0m\u001b[0m\n\u001b[1;32m    296\u001b[0m         \u001b[0;32mwhile\u001b[0m \u001b[0;32mTrue\u001b[0m\u001b[0;34m:\u001b[0m\u001b[0;34m\u001b[0m\u001b[0m\n\u001b[0;32m--> 297\u001b[0;31m             \u001b[0mversion\u001b[0m\u001b[0;34m,\u001b[0m \u001b[0mstatus\u001b[0m\u001b[0;34m,\u001b[0m \u001b[0mreason\u001b[0m \u001b[0;34m=\u001b[0m \u001b[0mself\u001b[0m\u001b[0;34m.\u001b[0m\u001b[0m_read_status\u001b[0m\u001b[0;34m(\u001b[0m\u001b[0;34m)\u001b[0m\u001b[0;34m\u001b[0m\u001b[0m\n\u001b[0m\u001b[1;32m    298\u001b[0m             \u001b[0;32mif\u001b[0m \u001b[0mstatus\u001b[0m \u001b[0;34m!=\u001b[0m \u001b[0mCONTINUE\u001b[0m\u001b[0;34m:\u001b[0m\u001b[0;34m\u001b[0m\u001b[0m\n\u001b[1;32m    299\u001b[0m                 \u001b[0;32mbreak\u001b[0m\u001b[0;34m\u001b[0m\u001b[0m\n",
      "\u001b[0;32m~/anaconda3/envs/python3/lib/python3.6/http/client.py\u001b[0m in \u001b[0;36m_read_status\u001b[0;34m(self)\u001b[0m\n\u001b[1;32m    256\u001b[0m \u001b[0;34m\u001b[0m\u001b[0m\n\u001b[1;32m    257\u001b[0m     \u001b[0;32mdef\u001b[0m \u001b[0m_read_status\u001b[0m\u001b[0;34m(\u001b[0m\u001b[0mself\u001b[0m\u001b[0;34m)\u001b[0m\u001b[0;34m:\u001b[0m\u001b[0;34m\u001b[0m\u001b[0m\n\u001b[0;32m--> 258\u001b[0;31m         \u001b[0mline\u001b[0m \u001b[0;34m=\u001b[0m \u001b[0mstr\u001b[0m\u001b[0;34m(\u001b[0m\u001b[0mself\u001b[0m\u001b[0;34m.\u001b[0m\u001b[0mfp\u001b[0m\u001b[0;34m.\u001b[0m\u001b[0mreadline\u001b[0m\u001b[0;34m(\u001b[0m\u001b[0m_MAXLINE\u001b[0m \u001b[0;34m+\u001b[0m \u001b[0;36m1\u001b[0m\u001b[0;34m)\u001b[0m\u001b[0;34m,\u001b[0m \u001b[0;34m\"iso-8859-1\"\u001b[0m\u001b[0;34m)\u001b[0m\u001b[0;34m\u001b[0m\u001b[0m\n\u001b[0m\u001b[1;32m    259\u001b[0m         \u001b[0;32mif\u001b[0m \u001b[0mlen\u001b[0m\u001b[0;34m(\u001b[0m\u001b[0mline\u001b[0m\u001b[0;34m)\u001b[0m \u001b[0;34m>\u001b[0m \u001b[0m_MAXLINE\u001b[0m\u001b[0;34m:\u001b[0m\u001b[0;34m\u001b[0m\u001b[0m\n\u001b[1;32m    260\u001b[0m             \u001b[0;32mraise\u001b[0m \u001b[0mLineTooLong\u001b[0m\u001b[0;34m(\u001b[0m\u001b[0;34m\"status line\"\u001b[0m\u001b[0;34m)\u001b[0m\u001b[0;34m\u001b[0m\u001b[0m\n",
      "\u001b[0;32m~/anaconda3/envs/python3/lib/python3.6/socket.py\u001b[0m in \u001b[0;36mreadinto\u001b[0;34m(self, b)\u001b[0m\n\u001b[1;32m    584\u001b[0m         \u001b[0;32mwhile\u001b[0m \u001b[0;32mTrue\u001b[0m\u001b[0;34m:\u001b[0m\u001b[0;34m\u001b[0m\u001b[0m\n\u001b[1;32m    585\u001b[0m             \u001b[0;32mtry\u001b[0m\u001b[0;34m:\u001b[0m\u001b[0;34m\u001b[0m\u001b[0m\n\u001b[0;32m--> 586\u001b[0;31m                 \u001b[0;32mreturn\u001b[0m \u001b[0mself\u001b[0m\u001b[0;34m.\u001b[0m\u001b[0m_sock\u001b[0m\u001b[0;34m.\u001b[0m\u001b[0mrecv_into\u001b[0m\u001b[0;34m(\u001b[0m\u001b[0mb\u001b[0m\u001b[0;34m)\u001b[0m\u001b[0;34m\u001b[0m\u001b[0m\n\u001b[0m\u001b[1;32m    587\u001b[0m             \u001b[0;32mexcept\u001b[0m \u001b[0mtimeout\u001b[0m\u001b[0;34m:\u001b[0m\u001b[0;34m\u001b[0m\u001b[0m\n\u001b[1;32m    588\u001b[0m                 \u001b[0mself\u001b[0m\u001b[0;34m.\u001b[0m\u001b[0m_timeout_occurred\u001b[0m \u001b[0;34m=\u001b[0m \u001b[0;32mTrue\u001b[0m\u001b[0;34m\u001b[0m\u001b[0m\n",
      "\u001b[0;32m~/anaconda3/envs/python3/lib/python3.6/ssl.py\u001b[0m in \u001b[0;36mrecv_into\u001b[0;34m(self, buffer, nbytes, flags)\u001b[0m\n\u001b[1;32m   1007\u001b[0m                   \u001b[0;34m\"non-zero flags not allowed in calls to recv_into() on %s\"\u001b[0m \u001b[0;34m%\u001b[0m\u001b[0;34m\u001b[0m\u001b[0m\n\u001b[1;32m   1008\u001b[0m                   self.__class__)\n\u001b[0;32m-> 1009\u001b[0;31m             \u001b[0;32mreturn\u001b[0m \u001b[0mself\u001b[0m\u001b[0;34m.\u001b[0m\u001b[0mread\u001b[0m\u001b[0;34m(\u001b[0m\u001b[0mnbytes\u001b[0m\u001b[0;34m,\u001b[0m \u001b[0mbuffer\u001b[0m\u001b[0;34m)\u001b[0m\u001b[0;34m\u001b[0m\u001b[0m\n\u001b[0m\u001b[1;32m   1010\u001b[0m         \u001b[0;32melse\u001b[0m\u001b[0;34m:\u001b[0m\u001b[0;34m\u001b[0m\u001b[0m\n\u001b[1;32m   1011\u001b[0m             \u001b[0;32mreturn\u001b[0m \u001b[0msocket\u001b[0m\u001b[0;34m.\u001b[0m\u001b[0mrecv_into\u001b[0m\u001b[0;34m(\u001b[0m\u001b[0mself\u001b[0m\u001b[0;34m,\u001b[0m \u001b[0mbuffer\u001b[0m\u001b[0;34m,\u001b[0m \u001b[0mnbytes\u001b[0m\u001b[0;34m,\u001b[0m \u001b[0mflags\u001b[0m\u001b[0;34m)\u001b[0m\u001b[0;34m\u001b[0m\u001b[0m\n",
      "\u001b[0;32m~/anaconda3/envs/python3/lib/python3.6/ssl.py\u001b[0m in \u001b[0;36mread\u001b[0;34m(self, len, buffer)\u001b[0m\n\u001b[1;32m    869\u001b[0m             \u001b[0;32mraise\u001b[0m \u001b[0mValueError\u001b[0m\u001b[0;34m(\u001b[0m\u001b[0;34m\"Read on closed or unwrapped SSL socket.\"\u001b[0m\u001b[0;34m)\u001b[0m\u001b[0;34m\u001b[0m\u001b[0m\n\u001b[1;32m    870\u001b[0m         \u001b[0;32mtry\u001b[0m\u001b[0;34m:\u001b[0m\u001b[0;34m\u001b[0m\u001b[0m\n\u001b[0;32m--> 871\u001b[0;31m             \u001b[0;32mreturn\u001b[0m \u001b[0mself\u001b[0m\u001b[0;34m.\u001b[0m\u001b[0m_sslobj\u001b[0m\u001b[0;34m.\u001b[0m\u001b[0mread\u001b[0m\u001b[0;34m(\u001b[0m\u001b[0mlen\u001b[0m\u001b[0;34m,\u001b[0m \u001b[0mbuffer\u001b[0m\u001b[0;34m)\u001b[0m\u001b[0;34m\u001b[0m\u001b[0m\n\u001b[0m\u001b[1;32m    872\u001b[0m         \u001b[0;32mexcept\u001b[0m \u001b[0mSSLError\u001b[0m \u001b[0;32mas\u001b[0m \u001b[0mx\u001b[0m\u001b[0;34m:\u001b[0m\u001b[0;34m\u001b[0m\u001b[0m\n\u001b[1;32m    873\u001b[0m             \u001b[0;32mif\u001b[0m \u001b[0mx\u001b[0m\u001b[0;34m.\u001b[0m\u001b[0margs\u001b[0m\u001b[0;34m[\u001b[0m\u001b[0;36m0\u001b[0m\u001b[0;34m]\u001b[0m \u001b[0;34m==\u001b[0m \u001b[0mSSL_ERROR_EOF\u001b[0m \u001b[0;32mand\u001b[0m \u001b[0mself\u001b[0m\u001b[0;34m.\u001b[0m\u001b[0msuppress_ragged_eofs\u001b[0m\u001b[0;34m:\u001b[0m\u001b[0;34m\u001b[0m\u001b[0m\n",
      "\u001b[0;32m~/anaconda3/envs/python3/lib/python3.6/ssl.py\u001b[0m in \u001b[0;36mread\u001b[0;34m(self, len, buffer)\u001b[0m\n\u001b[1;32m    629\u001b[0m         \"\"\"\n\u001b[1;32m    630\u001b[0m         \u001b[0;32mif\u001b[0m \u001b[0mbuffer\u001b[0m \u001b[0;32mis\u001b[0m \u001b[0;32mnot\u001b[0m \u001b[0;32mNone\u001b[0m\u001b[0;34m:\u001b[0m\u001b[0;34m\u001b[0m\u001b[0m\n\u001b[0;32m--> 631\u001b[0;31m             \u001b[0mv\u001b[0m \u001b[0;34m=\u001b[0m \u001b[0mself\u001b[0m\u001b[0;34m.\u001b[0m\u001b[0m_sslobj\u001b[0m\u001b[0;34m.\u001b[0m\u001b[0mread\u001b[0m\u001b[0;34m(\u001b[0m\u001b[0mlen\u001b[0m\u001b[0;34m,\u001b[0m \u001b[0mbuffer\u001b[0m\u001b[0;34m)\u001b[0m\u001b[0;34m\u001b[0m\u001b[0m\n\u001b[0m\u001b[1;32m    632\u001b[0m         \u001b[0;32melse\u001b[0m\u001b[0;34m:\u001b[0m\u001b[0;34m\u001b[0m\u001b[0m\n\u001b[1;32m    633\u001b[0m             \u001b[0mv\u001b[0m \u001b[0;34m=\u001b[0m \u001b[0mself\u001b[0m\u001b[0;34m.\u001b[0m\u001b[0m_sslobj\u001b[0m\u001b[0;34m.\u001b[0m\u001b[0mread\u001b[0m\u001b[0;34m(\u001b[0m\u001b[0mlen\u001b[0m\u001b[0;34m)\u001b[0m\u001b[0;34m\u001b[0m\u001b[0m\n",
      "\u001b[0;31mKeyboardInterrupt\u001b[0m: "
     ]
    }
   ],
   "source": [
    "header = ['text']\n",
    "resp = ''\n",
    "\n",
    "# Send off a series of invidual requests for each sample\n",
    "from tqdm import tqdm\n",
    "for i in tqdm(range(100)):\n",
    "    for sample in monitor_sample:\n",
    "        payload = '\\n'.join(header+[sample]).encode('utf-8')\n",
    "        resp += test_endpoint(endpoint_name, payload).decode('utf-8')\n",
    "        \n",
    "len(resp)"
   ]
  },
  {
   "cell_type": "markdown",
   "metadata": {},
   "source": [
    "To see if the drift reverts back to the baseline, send data from the original distribuition"
   ]
  },
  {
   "cell_type": "code",
   "execution_count": 148,
   "metadata": {},
   "outputs": [
    {
     "name": "stdout",
     "output_type": "stream",
     "text": [
      "sending 293 validation records\n"
     ]
    },
    {
     "data": {
      "text/plain": [
       "'__label__eating_out,0.0000033515,0.9987571239,0.0000872765,0.0005289308,0.0001255432,0.0000869589,0.'"
      ]
     },
     "execution_count": 148,
     "metadata": {},
     "output_type": "execute_result"
    }
   ],
   "source": [
    "import pandas as pd\n",
    "\n",
    "df_test = pd.read_csv('input/data/test/test.csv')\n",
    "\n",
    "print('sending {} validation records'.format(df_test.shape[0]))\n",
    "payload = df_test[['text']].to_csv(index=False).encode('utf-8')\n",
    "resp = test_endpoint(endpoint_name, payload).decode('utf-8')\n",
    "resp[:100]"
   ]
  },
  {
   "cell_type": "markdown",
   "metadata": {},
   "source": [
    "### Inspect Captured data"
   ]
  },
  {
   "cell_type": "code",
   "execution_count": 229,
   "metadata": {},
   "outputs": [
    {
     "name": "stdout",
     "output_type": "stream",
     "text": [
      "Captured Files: 16, top 3:\n",
      "s3://sagemaker-ap-southeast-2-691313291965/ludwig-model/datacapture/mlops-iris-model-prd-8b5901b7-6769-4bba-841e-d60c39bf6d38/mlops-iris-model-prd-8b5901b7-6769-4bba-841e-d60c39bf6d38/2020/02/24/22/52-46-400-2ba98ad6-4559-43b5-9861-da1116a5d60f.jsonl\n",
      " s3://sagemaker-ap-southeast-2-691313291965/ludwig-model/datacapture/mlops-iris-model-prd-8b5901b7-6769-4bba-841e-d60c39bf6d38/mlops-iris-model-prd-8b5901b7-6769-4bba-841e-d60c39bf6d38/2020/02/24/22/51-38-072-8b7d0adf-bf7f-4845-8f4c-3a7c8da33a29.jsonl\n",
      " s3://sagemaker-ap-southeast-2-691313291965/ludwig-model/datacapture/mlops-iris-model-prd-8b5901b7-6769-4bba-841e-d60c39bf6d38/mlops-iris-model-prd-8b5901b7-6769-4bba-841e-d60c39bf6d38/2020/02/24/21/53-38-857-5c73de1c-5d2b-47ac-b930-1a68943f955c.jsonl\n"
     ]
    }
   ],
   "source": [
    "s3_client = boto3.Session().client('s3')\n",
    "\n",
    "# Get capture files for this new endpoint\n",
    "results_prefix = s3_capture_prefix+'/'+endpoint_name\n",
    "result = s3_client.list_objects(Bucket=bucket, Prefix=results_prefix)\n",
    "if not 'Contents' in result:\n",
    "    raise(Exception('No results vailable yet for location: {}'.format(results_prefix)))\n",
    "else:\n",
    "    capture_files = ['s3://{0}/{1}'.format(bucket, capture_file.get(\"Key\")) \n",
    "                     for capture_file in result.get('Contents')][::-1]\n",
    "    print(\"Captured Files: {}, top 3:\".format(len(capture_files)))\n",
    "    print(\"\\n \".join(capture_files[:3]))"
   ]
  },
  {
   "cell_type": "code",
   "execution_count": 230,
   "metadata": {},
   "outputs": [
    {
     "name": "stdout",
     "output_type": "stream",
     "text": [
      "download: s3://sagemaker-ap-southeast-2-691313291965/ludwig-model/datacapture/mlops-iris-model-prd-8b5901b7-6769-4bba-841e-d60c39bf6d38/mlops-iris-model-prd-8b5901b7-6769-4bba-841e-d60c39bf6d38/2020/02/24/22/51-38-072-8b7d0adf-bf7f-4845-8f4c-3a7c8da33a29.jsonl to baselining/output/captured_data_example.jsonl\n",
      "{\"captureData\":{\"endpointInput\":{\"observedContentType\":\"text/csv\",\"mode\":\"INPUT\",\"data\":\"text\\nlocal gastown vancouver ca\\npadre coffee brunswick easau\\n\",\"encoding\":\"CSV\"},\"endpointOutput\":{\"observedContentType\":\"text/csv\",\"mode\":\"OUTPUT\",\"data\":\"__label__eating_out,0.0000033515,0.9987571239,0.0000872765,0.0005289308,0.0001255432,0.0000869589,0.0002310269,0.0000628455,0.0000033226,0.0000436031,0.0000702098,0.9987571239\\n__label__eating_out,0.0000000038,0.9999557734,0.0000285508,0.0000015725,0.0000011309,0.0000003446,0.0000002136,0.0000047278,0.0000000428,0.0000021473,0.0000055087,0.9999557734\\n\",\"encoding\":\"CSV\"}},\"eventMetadata\":{\"eventId\":\"11bf4b05-ca8c-40b7-a61a-37ce5c63c1ee\",\"inferenceTime\":\"2020-02-24T22:51:38Z\"},\"eventVersion\":\"0\"}\n"
     ]
    }
   ],
   "source": [
    "!mkdir -p baselining/output\n",
    "!aws s3 cp {capture_files[1]} baselining/output/captured_data_example.jsonl\n",
    "!head -1 baselining/output/captured_data_example.jsonl"
   ]
  },
  {
   "cell_type": "markdown",
   "metadata": {},
   "source": [
    "Write the first payload from this line"
   ]
  },
  {
   "cell_type": "code",
   "execution_count": 227,
   "metadata": {},
   "outputs": [
    {
     "name": "stdout",
     "output_type": "stream",
     "text": [
      "input: text/csv\n",
      "text\n",
      "local gastown vancouver ca\n",
      "padre coffee brunswick easau\n",
      "\n",
      "output: text/csv\n",
      "{'class_predictions': '__label__eating_out', 'class_probabilities_<UNK>': '0.0000033515', 'class_probabilities___label__eating_out': '0.9987571239', 'class_probabilities___label__groceries': '0.0000872765', 'class_probabilities___label__transport': '0.0005289308', 'class_probabilities___label__shopping': '0.0001255432', 'class_probabilities___label__health': '0.0000869589', 'class_probabilities___label__travel': '0.0002310269', 'class_probabilities___label__entertainment': '0.0000628455', 'class_probabilities___label__education': '0.0000033226', 'class_probabilities___label__home': '0.0000436031', 'class_probabilities___label__utilities': '0.0000702098', 'class_probability': '0.9987571239'}\n"
     ]
    }
   ],
   "source": [
    "import json\n",
    "\n",
    "def parse_event_output(data):\n",
    "    import csv\n",
    "    from io import StringIO\n",
    "    cols = ['class_predictions',\n",
    "             'class_probabilities_<UNK>',\n",
    "             'class_probabilities___label__eating_out',\n",
    "             'class_probabilities___label__groceries',\n",
    "             'class_probabilities___label__transport',\n",
    "             'class_probabilities___label__shopping',\n",
    "             'class_probabilities___label__health',\n",
    "             'class_probabilities___label__travel',\n",
    "             'class_probabilities___label__entertainment',\n",
    "             'class_probabilities___label__education',\n",
    "             'class_probabilities___label__home',\n",
    "             'class_probabilities___label__utilities',\n",
    "             'class_probability']\n",
    "    for row in csv.DictReader(StringIO(data), fieldnames=cols):\n",
    "        return dict(row) # Return first row only, or return list of dicts?\n",
    "\n",
    "with open('baselining/output/captured_data_example.jsonl', 'r') as f:\n",
    "    lines = f.read().split('\\n')\n",
    "    event = json.loads(lines[0])\n",
    "    print('input: {}\\n{}'.format(event['captureData']['endpointInput']['observedContentType'], \n",
    "                                 event['captureData']['endpointInput']['data'][:200]))\n",
    "    print('output: {}\\n{}'.format(event['captureData']['endpointOutput']['observedContentType'], \n",
    "                                  parse_event_output(event['captureData']['endpointOutput']['data'])))"
   ]
  },
  {
   "cell_type": "markdown",
   "metadata": {},
   "source": [
    "### Run an immediate schedule\n",
    "\n",
    "Lets start by running a schedule on some drifted data."
   ]
  },
  {
   "cell_type": "code",
   "execution_count": 216,
   "metadata": {},
   "outputs": [],
   "source": [
    "import os, sys\n",
    "from urllib.parse import urlparse\n",
    "from sagemaker.processing import Processor, ProcessingInput, ProcessingOutput\n",
    "\n",
    "def get_model_monitor_container_uri(region):\n",
    "    container_uri_format = '{0}.dkr.ecr.{1}.amazonaws.com/sagemaker-model-monitor-analyzer'\n",
    "    \n",
    "    regions_to_accounts = {\n",
    "        'eu-north-1': '895015795356',\n",
    "        'me-south-1': '607024016150',\n",
    "        'ap-south-1': '126357580389',\n",
    "        'us-east-2': '680080141114',\n",
    "        'us-east-2': '777275614652',\n",
    "        'eu-west-1': '468650794304',\n",
    "        'eu-central-1': '048819808253',\n",
    "        'sa-east-1': '539772159869',\n",
    "        'ap-east-1': '001633400207',\n",
    "        'us-east-1': '156813124566',\n",
    "        'ap-northeast-2': '709848358524',\n",
    "        'eu-west-2': '749857270468',\n",
    "        'ap-northeast-1': '574779866223',\n",
    "        'us-west-2': '159807026194',\n",
    "        'us-west-1': '890145073186',\n",
    "        'ap-southeast-1': '245545462676',\n",
    "        'ap-southeast-2': '563025443158',\n",
    "        'ca-central-1': '536280801234'\n",
    "    }\n",
    "    \n",
    "    container_uri = container_uri_format.format(regions_to_accounts[region], region)\n",
    "    return container_uri\n",
    "\n",
    "def get_file_name(url):\n",
    "    a = urlparse(url)\n",
    "    return os.path.basename(a.path)\n",
    "\n",
    "def run_model_monitor_job_processor(region, instance_type, role, data_capture_path, statistics_path, constraints_path, reports_path,\n",
    "                                    instance_count=1, preprocessor_path=None, postprocessor_path=None, publish_cloudwatch_metrics='Disabled'):\n",
    "    \n",
    "    data_capture_sub_path = data_capture_path[data_capture_path.rfind('datacapture/') :]\n",
    "    data_capture_sub_path = data_capture_sub_path[data_capture_sub_path.find('/') + 1 :]\n",
    "    processing_output_paths = reports_path + '/' + data_capture_sub_path\n",
    "    \n",
    "    input_1 = ProcessingInput(input_name='input_1',\n",
    "                          source=data_capture_path,\n",
    "                          destination='/opt/ml/processing/input/endpoint/' + data_capture_sub_path,\n",
    "                          s3_data_type='S3Prefix',\n",
    "                          s3_input_mode='File')\n",
    "\n",
    "    baseline = ProcessingInput(input_name='baseline',\n",
    "                               source=statistics_path,\n",
    "                               destination='/opt/ml/processing/baseline/stats',\n",
    "                               s3_data_type='S3Prefix',\n",
    "                               s3_input_mode='File')\n",
    "\n",
    "    constraints = ProcessingInput(input_name='constraints',\n",
    "                                  source=constraints_path,\n",
    "                                  destination='/opt/ml/processing/baseline/constraints',\n",
    "                                  s3_data_type='S3Prefix',\n",
    "                                  s3_input_mode='File')\n",
    "\n",
    "    outputs = ProcessingOutput(output_name='result',\n",
    "                               source='/opt/ml/processing/output',\n",
    "                               destination=processing_output_paths,\n",
    "                               s3_upload_mode='Continuous')\n",
    "\n",
    "    env = {'baseline_constraints': '/opt/ml/processing/baseline/constraints/' + get_file_name(constraints_path),\n",
    "           'baseline_statistics': '/opt/ml/processing/baseline/stats/' + get_file_name(statistics_path),\n",
    "           'dataset_format': '{\"sagemakerCaptureJson\":{\"captureIndexNames\":[\"endpointInput\",\"endpointOutput\"]}}',\n",
    "           'dataset_source': '/opt/ml/processing/input/endpoint',\n",
    "           'output_path': '/opt/ml/processing/output',\n",
    "           'publish_cloudwatch_metrics': publish_cloudwatch_metrics }\n",
    "    \n",
    "    inputs=[input_1, baseline, constraints]\n",
    "    \n",
    "    if postprocessor_path:\n",
    "        env['post_analytics_processor_script'] = '/opt/ml/processing/code/postprocessing/' + get_file_name(postprocessor_path)\n",
    "        \n",
    "        post_processor_script = ProcessingInput(input_name='post_processor_script',\n",
    "                                                source=postprocessor_path,\n",
    "                                                destination='/opt/ml/processing/code/postprocessing',\n",
    "                                                s3_data_type='S3Prefix',\n",
    "                                                s3_input_mode='File')\n",
    "        inputs.append(post_processor_script)\n",
    "\n",
    "    if preprocessor_path:\n",
    "        env['record_preprocessor_script'] = '/opt/ml/processing/code/preprocessing/' + get_file_name(preprocessor_path)\n",
    "         \n",
    "        pre_processor_script = ProcessingInput(input_name='pre_processor_script',\n",
    "                                               source=preprocessor_path,\n",
    "                                               destination='/opt/ml/processing/code/preprocessing',\n",
    "                                               s3_data_type='S3Prefix',\n",
    "                                               s3_input_mode='File')\n",
    "        \n",
    "        inputs.append(pre_processor_script) \n",
    "    \n",
    "    processor = Processor(image_uri = get_model_monitor_container_uri(region),\n",
    "                          instance_count = instance_count,\n",
    "                          instance_type = instance_type,\n",
    "                          role=role,\n",
    "                          env = env)\n",
    "    \n",
    "    return processor.run(inputs=inputs, outputs=[outputs])"
   ]
  },
  {
   "cell_type": "code",
   "execution_count": null,
   "metadata": {},
   "outputs": [],
   "source": [
    "%%writefile preprocessor.py\n",
    "import json \n",
    "\n",
    "import json\n",
    "\n",
    "def parse_event_output(data):\n",
    "    import csv\n",
    "    from io import StringIO\n",
    "    cols = ['class_predictions',\n",
    "             'class_probabilities_<UNK>',\n",
    "             'class_probabilities___label__eating_out',\n",
    "             'class_probabilities___label__groceries',\n",
    "             'class_probabilities___label__transport',\n",
    "             'class_probabilities___label__shopping',\n",
    "             'class_probabilities___label__health',\n",
    "             'class_probabilities___label__travel',\n",
    "             'class_probabilities___label__entertainment',\n",
    "             'class_probabilities___label__education',\n",
    "             'class_probabilities___label__home',\n",
    "             'class_probabilities___label__utilities',\n",
    "             'class_probability'] # Define columns\n",
    "    for row in csv.DictReader(StringIO(data), fieldnames=cols):\n",
    "        return dict(row) # Return first row only, or is a list supported\n",
    "\n",
    "def preprocess_handler(inference_record):\n",
    "    try:\n",
    "        # Parse the CSV with header\n",
    "        data = inference_record.endpoint_output.data\n",
    "        if inference_record.endpoint_output.encoding == 'CSV':\n",
    "            data = parse_event_output(data)\n",
    "        return data\n",
    "    except:\n",
    "        # Return an undefined label\n",
    "        return {'class_predictions': '__label__undefined', 'class_probabilities_<UNK>': 1.0 }"
   ]
  },
  {
   "cell_type": "code",
   "execution_count": null,
   "metadata": {},
   "outputs": [],
   "source": [
    "%%writefile postprocessor.py\n",
    "def postprocess_handler():\n",
    "    print(\"Hello from post-proc script!\")"
   ]
  },
  {
   "cell_type": "code",
   "execution_count": null,
   "metadata": {},
   "outputs": [],
   "source": [
    "import boto3\n",
    "\n",
    "monitoring_code_prefix = '{0}/monitoring/code'.format(prefix)\n",
    "print(monitoring_code_prefix)\n",
    "\n",
    "boto3.Session().resource('s3').Bucket(bucket).Object(monitoring_code_prefix + '/preprocessor.py').upload_file('preprocessor.py')\n",
    "s3_preprocessor_path = 's3://{0}/{1}/monitoring/code/preprocessor.py'.format(bucket, prefix)\n",
    "print(s3_preprocessor_path)\n",
    "\n",
    "boto3.Session().resource('s3').Bucket(bucket).Object(monitoring_code_prefix + '/postprocessor.py').upload_file('postprocessor.py')\n",
    "s3_postprocessor_path = 's3://{0}/{1}/monitoring/code/postprocessor.py'.format(bucket, prefix)\n",
    "print(s3_postprocessor_path)\n",
    "\n",
    "s3_reports_path = 's3://{0}/{1}/monitoring/reports'.format(bucket, prefix)\n",
    "print(s3_reports_path)"
   ]
  },
  {
   "cell_type": "code",
   "execution_count": null,
   "metadata": {},
   "outputs": [],
   "source": [
    "# Pick the last statistics/contstraints from capture files\n",
    "s3_data_capture_path = capture_files[len(capture_files) - 1][: capture_files[len(capture_files) - 1].rfind('/')]\n",
    "s3_statistics_path = baseline_results_uri + '/statistics.json'\n",
    "s3_constraints_path = baseline_results_uri + '/constraints.json'\n",
    "\n",
    "print(s3_data_capture_path)\n",
    "print(s3_postprocessor_path)\n",
    "print(s3_statistics_path)\n",
    "print(s3_constraints_path)\n",
    "print(s3_reports_path)"
   ]
  },
  {
   "cell_type": "code",
   "execution_count": 219,
   "metadata": {},
   "outputs": [
    {
     "data": {
      "text/plain": [
       "<sagemaker.processing.Processor at 0x7f03c586c828>"
      ]
     },
     "execution_count": 219,
     "metadata": {},
     "output_type": "execute_result"
    }
   ],
   "source": [
    "region = boto3.Session().region_name\n",
    "\n",
    "processor = run_model_monitor_job_processor(region, 'ml.m5.xlarge', role, \n",
    "                                s3_data_capture_path, s3_statistics_path, s3_constraints_path, s3_reports_path,\n",
    "                                #preprocessor_path=s3_preprocessor_path,\n",
    "                                postprocessor_path=s3_postprocessor_path)"
   ]
  },
  {
   "cell_type": "markdown",
   "metadata": {},
   "source": [
    "### Analysis\n",
    "\n",
    "When the monitoring job completes, monitoring reports are saved to Amazon S3. Let's list the generated reports."
   ]
  },
  {
   "cell_type": "code",
   "execution_count": 95,
   "metadata": {},
   "outputs": [
    {
     "name": "stdout",
     "output_type": "stream",
     "text": [
      "Monitoring Reports Files: \n",
      "s3://sagemaker-ap-southeast-2-691313291965/ludwig-model/monitoring/reports/mlops-iris-model-prd-8b5901b7-6769-4bba-841e-d60c39bf6d38/mlops-iris-model-prd-8b5901b7-6769-4bba-841e-d60c39bf6d38/2020/02/24/13/constraint_violations.json\n",
      " s3://sagemaker-ap-southeast-2-691313291965/ludwig-model/monitoring/reports/mlops-iris-model-prd-8b5901b7-6769-4bba-841e-d60c39bf6d38/mlops-iris-model-prd-8b5901b7-6769-4bba-841e-d60c39bf6d38/2020/02/24/13/constraints.json\n",
      " s3://sagemaker-ap-southeast-2-691313291965/ludwig-model/monitoring/reports/mlops-iris-model-prd-8b5901b7-6769-4bba-841e-d60c39bf6d38/mlops-iris-model-prd-8b5901b7-6769-4bba-841e-d60c39bf6d38/2020/02/24/13/statistics.json\n",
      " s3://sagemaker-ap-southeast-2-691313291965/ludwig-model/monitoring/reports/mlops-iris-model-prd-8b5901b7-6769-4bba-841e-d60c39bf6d38/mlops-iris-model-prd-8b5901b7-6769-4bba-841e-d60c39bf6d38/2020/02/24/15/constraint_violations.json\n",
      " s3://sagemaker-ap-southeast-2-691313291965/ludwig-model/monitoring/reports/mlops-iris-model-prd-8b5901b7-6769-4bba-841e-d60c39bf6d38/mlops-iris-model-prd-8b5901b7-6769-4bba-841e-d60c39bf6d38/2020/02/24/15/constraints.json\n",
      " s3://sagemaker-ap-southeast-2-691313291965/ludwig-model/monitoring/reports/mlops-iris-model-prd-8b5901b7-6769-4bba-841e-d60c39bf6d38/mlops-iris-model-prd-8b5901b7-6769-4bba-841e-d60c39bf6d38/2020/02/24/15/statistics.json\n"
     ]
    }
   ],
   "source": [
    "s3_client = boto3.Session().client('s3')\n",
    "monitoring_reports_prefix = '{}/monitoring/reports/{}'.format(prefix, endpoint_name)\n",
    "\n",
    "result = s3_client.list_objects(Bucket=bucket, Prefix=monitoring_reports_prefix)\n",
    "try:\n",
    "    monitoring_reports = ['s3://{0}/{1}'.format(bucket, capture_file.get(\"Key\")) for capture_file in result.get('Contents')]\n",
    "    print(\"Monitoring Reports Files: \")\n",
    "    print(\"\\n \".join(monitoring_reports))\n",
    "except:\n",
    "    print('No monitoring reports found.')"
   ]
  },
  {
   "cell_type": "markdown",
   "metadata": {},
   "source": [
    "Copy monitoring reports locally"
   ]
  },
  {
   "cell_type": "code",
   "execution_count": 96,
   "metadata": {},
   "outputs": [
    {
     "name": "stdout",
     "output_type": "stream",
     "text": [
      "download: s3://sagemaker-ap-southeast-2-691313291965/ludwig-model/monitoring/reports/mlops-iris-model-prd-8b5901b7-6769-4bba-841e-d60c39bf6d38/mlops-iris-model-prd-8b5901b7-6769-4bba-841e-d60c39bf6d38/2020/02/24/13/constraint_violations.json to monitoring/constraint_violations.json\n",
      "download: s3://sagemaker-ap-southeast-2-691313291965/ludwig-model/monitoring/reports/mlops-iris-model-prd-8b5901b7-6769-4bba-841e-d60c39bf6d38/mlops-iris-model-prd-8b5901b7-6769-4bba-841e-d60c39bf6d38/2020/02/24/13/constraints.json to monitoring/constraints.json\n",
      "download: s3://sagemaker-ap-southeast-2-691313291965/ludwig-model/monitoring/reports/mlops-iris-model-prd-8b5901b7-6769-4bba-841e-d60c39bf6d38/mlops-iris-model-prd-8b5901b7-6769-4bba-841e-d60c39bf6d38/2020/02/24/13/statistics.json to monitoring/statistics.json\n"
     ]
    }
   ],
   "source": [
    "!aws s3 cp {monitoring_reports[0]} monitoring/\n",
    "!aws s3 cp {monitoring_reports[1]} monitoring/\n",
    "!aws s3 cp {monitoring_reports[2]} monitoring/"
   ]
  },
  {
   "cell_type": "code",
   "execution_count": 97,
   "metadata": {},
   "outputs": [
    {
     "data": {
      "text/html": [
       "<div>\n",
       "<style scoped>\n",
       "    .dataframe tbody tr th:only-of-type {\n",
       "        vertical-align: middle;\n",
       "    }\n",
       "\n",
       "    .dataframe tbody tr th {\n",
       "        vertical-align: top;\n",
       "    }\n",
       "\n",
       "    .dataframe thead th {\n",
       "        text-align: right;\n",
       "    }\n",
       "</style>\n",
       "<table border=\"1\" class=\"dataframe\">\n",
       "  <thead>\n",
       "    <tr style=\"text-align: right;\">\n",
       "      <th></th>\n",
       "      <th>constraint_check_type</th>\n",
       "      <th>description</th>\n",
       "      <th>feature_name</th>\n",
       "    </tr>\n",
       "  </thead>\n",
       "  <tbody>\n",
       "    <tr>\n",
       "      <th>0</th>\n",
       "      <td>completeness_check</td>\n",
       "      <td>Data completeness requirement is not met. Expected: 100.0%. Observed: Only 50.0%.</td>\n",
       "      <td>class_probabilities___label__utilities</td>\n",
       "    </tr>\n",
       "    <tr>\n",
       "      <th>1</th>\n",
       "      <td>completeness_check</td>\n",
       "      <td>Data completeness requirement is not met. Expected: 100.0%. Observed: Only 50.0%.</td>\n",
       "      <td>class_probabilities___label__home</td>\n",
       "    </tr>\n",
       "    <tr>\n",
       "      <th>2</th>\n",
       "      <td>completeness_check</td>\n",
       "      <td>Data completeness requirement is not met. Expected: 100.0%. Observed: Only 50.0%.</td>\n",
       "      <td>class_probability</td>\n",
       "    </tr>\n",
       "    <tr>\n",
       "      <th>3</th>\n",
       "      <td>data_type_check</td>\n",
       "      <td>Data type match requirement is not met. Expected data type: String, Expected match: 100.0%. Observed: Only 50.0% of data is String.</td>\n",
       "      <td>class_predictions</td>\n",
       "    </tr>\n",
       "    <tr>\n",
       "      <th>4</th>\n",
       "      <td>categorical_values_check</td>\n",
       "      <td>Categorical value match requirement is not met. Expected match: 100.0%. Observed: 50.0% of the values match the known values.</td>\n",
       "      <td>class_predictions</td>\n",
       "    </tr>\n",
       "  </tbody>\n",
       "</table>\n",
       "</div>"
      ],
      "text/plain": [
       "      constraint_check_type  \\\n",
       "0  completeness_check         \n",
       "1  completeness_check         \n",
       "2  completeness_check         \n",
       "3  data_type_check            \n",
       "4  categorical_values_check   \n",
       "\n",
       "                                                                                                                           description  \\\n",
       "0  Data completeness requirement is not met. Expected: 100.0%. Observed: Only 50.0%.                                                     \n",
       "1  Data completeness requirement is not met. Expected: 100.0%. Observed: Only 50.0%.                                                     \n",
       "2  Data completeness requirement is not met. Expected: 100.0%. Observed: Only 50.0%.                                                     \n",
       "3  Data type match requirement is not met. Expected data type: String, Expected match: 100.0%. Observed: Only 50.0% of data is String.   \n",
       "4  Categorical value match requirement is not met. Expected match: 100.0%. Observed: 50.0% of the values match the known values.         \n",
       "\n",
       "                             feature_name  \n",
       "0  class_probabilities___label__utilities  \n",
       "1  class_probabilities___label__home       \n",
       "2  class_probability                       \n",
       "3  class_predictions                       \n",
       "4  class_predictions                       "
      ]
     },
     "execution_count": 97,
     "metadata": {},
     "output_type": "execute_result"
    }
   ],
   "source": [
    "import pandas as pd\n",
    "pd.set_option('display.max_colwidth', -1)\n",
    "\n",
    "file = open('monitoring/constraint_violations.json', 'r')\n",
    "data = file.read()\n",
    "\n",
    "violations_df = pd.io.json.json_normalize(json.loads(data)['violations'])\n",
    "violations_df"
   ]
  },
  {
   "cell_type": "markdown",
   "metadata": {},
   "source": [
    "### Advanced Hints\n",
    "\n",
    "You might be asking yourself what are the type of violations that are monitored and how drift from the baseline is computed.\n",
    "\n",
    "The types of violations monitored are listed here: https://docs.aws.amazon.com/sagemaker/latest/dg/model-monitor-interpreting-violations.html. Most of them use configurable thresholds, that are specified in the monitoring configuration section of the baseline constraints JSON. Let's take a look at this configuration from the baseline constraints file:"
   ]
  },
  {
   "cell_type": "code",
   "execution_count": null,
   "metadata": {},
   "outputs": [],
   "source": [
    "!aws s3 cp {statistics_path} baseline/\n",
    "!aws s3 cp {constraints_path} baseline/"
   ]
  },
  {
   "cell_type": "code",
   "execution_count": null,
   "metadata": {},
   "outputs": [],
   "source": [
    "import json\n",
    "with open (\"baseline/constraints.json\", \"r\") as myfile:\n",
    "    data=myfile.read()\n",
    "\n",
    "print(json.dumps(json.loads(data)['monitoring_config'], indent=2))"
   ]
  },
  {
   "cell_type": "markdown",
   "metadata": {},
   "source": [
    "This configuration is intepreted when the monitoring job is executed and used to compare captured data to the baseline. If you want to customize this section, you will have to update the constraints.json file and upload it back to Amazon S3 before launching the monitoring job.\n",
    "\n",
    "When data distributions are compared to detect potential drift, you can choose to use either a Simple or Robust comparison method, where the latter has to be preferred when dealing with small datasets. Additional info: https://docs.aws.amazon.com/sagemaker/latest/dg/model-monitor-byoc-constraints.html."
   ]
  },
  {
   "cell_type": "markdown",
   "metadata": {},
   "source": [
    "## Step 4. Create a schedule\n",
    "\n",
    "We are ready to create a model monitoring schedule for the Endpoint created earlier with the baseline resources (constraints and statistics)."
   ]
  },
  {
   "cell_type": "code",
   "execution_count": null,
   "metadata": {},
   "outputs": [],
   "source": [
    "from sagemaker.model_monitor import CronExpressionGenerator\n",
    "from time import gmtime, strftime\n",
    "\n",
    "mon_schedule_name = endpoint_name # Create the mon schedule based on endpoint name\n",
    "\n",
    "my_default_monitor.create_monitoring_schedule(\n",
    "    monitor_schedule_name=endpoint_name,\n",
    "    endpoint_input=endpoint_name,\n",
    "    output_s3_uri=s3_reports_path,\n",
    "    statistics=my_default_monitor.baseline_statistics(),\n",
    "    constraints=my_default_monitor.suggested_constraints(),\n",
    "    schedule_cron_expression=CronExpressionGenerator.hourly(),\n",
    "    enable_cloudwatch_metrics=True,\n",
    ")"
   ]
  },
  {
   "cell_type": "code",
   "execution_count": null,
   "metadata": {},
   "outputs": [],
   "source": []
  },
  {
   "cell_type": "code",
   "execution_count": null,
   "metadata": {},
   "outputs": [],
   "source": []
  },
  {
   "cell_type": "code",
   "execution_count": null,
   "metadata": {},
   "outputs": [],
   "source": []
  },
  {
   "cell_type": "code",
   "execution_count": null,
   "metadata": {},
   "outputs": [],
   "source": []
  },
  {
   "cell_type": "code",
   "execution_count": null,
   "metadata": {},
   "outputs": [],
   "source": [
    "print('Schedule status: {}'.format(my_default_monitor.describe_schedule()['MonitoringScheduleStatus']))"
   ]
  },
  {
   "cell_type": "markdown",
   "metadata": {},
   "source": [
    "### List Executions\n",
    "\n",
    "The schedule starts jobs at the previously specified intervals. Here, you list the latest five executions. Note that if you are kicking this off after creating the hourly schedule, you might find the executions empty. You might have to wait until you cross the hour boundary (in UTC) to see executions kick off. The code below has the logic for waiting.\n",
    "\n",
    "Note: Even for an hourly schedule, Amazon SageMaker has a buffer period of 20 minutes to schedule your execution. You might see your execution start in anywhere from zero to ~20 minutes from the hour boundary. This is expected and done for load balancing in the backend."
   ]
  },
  {
   "cell_type": "code",
   "execution_count": 231,
   "metadata": {},
   "outputs": [
    {
     "name": "stdout",
     "output_type": "stream",
     "text": [
      "{\r\n",
      "    \"ProcessingJobSummaries\": [\r\n",
      "        {\r\n",
      "            \"ProcessingJobName\": \"model-monitoring-202002250200-7fddbfd8ed9e7afc5e315355\",\r\n",
      "            \"ProcessingJobArn\": \"arn:aws:sagemaker:ap-southeast-2:691313291965:processing-job/model-monitoring-202002250200-7fddbfd8ed9e7afc5e315355\",\r\n",
      "            \"CreationTime\": 1582596559.576,\r\n",
      "            \"ProcessingEndTime\": 1582596753.0,\r\n",
      "            \"LastModifiedTime\": 1582596753.114,\r\n",
      "            \"ProcessingJobStatus\": \"Failed\",\r\n",
      "            \"FailureReason\": \"ClientError: Failed to download data. S3 key: s3://sagemaker-ap-southeast-2-691313291965/mlops/datacapture/mlops-iris-model-prd-8b5901b7-6769-4bba-841e-d60c39bf6d38/mlops-iris-model-prd-8b5901b7-6769-4bba-841e-d60c39bf6d38/2020/02/25/01 matched no files on s3\"\r\n",
      "        }\r\n",
      "    ],\r\n",
      "    \"NextToken\": \"eyJOZXh0VG9rZW4iOiBudWxsLCAiYm90b190cnVuY2F0ZV9hbW91bnQiOiAxfQ==\"\r\n",
      "}\r\n"
     ]
    }
   ],
   "source": [
    "!aws sagemaker list-processing-jobs --max-item 1"
   ]
  },
  {
   "cell_type": "code",
   "execution_count": 232,
   "metadata": {},
   "outputs": [
    {
     "name": "stdout",
     "output_type": "stream",
     "text": [
      "{\r\n",
      "    \"MonitoringScheduleSummaries\": [\r\n",
      "        {\r\n",
      "            \"MonitoringScheduleName\": \"mlops-iris-model-prd-8b5901b7-6769-4bba-841e-d6-1582598782-b38b\",\r\n",
      "            \"MonitoringScheduleArn\": \"arn:aws:sagemaker:ap-southeast-2:691313291965:monitoring-schedule/mlops-iris-model-prd-8b5901b7-6769-4bba-841e-d6-1582598782-b38b\",\r\n",
      "            \"CreationTime\": 1582598782.274,\r\n",
      "            \"LastModifiedTime\": 1582598787.246,\r\n",
      "            \"MonitoringScheduleStatus\": \"Scheduled\",\r\n",
      "            \"EndpointName\": \"mlops-iris-model-prd-8b5901b7-6769-4bba-841e-d60c39bf6d38\"\r\n",
      "        }\r\n",
      "    ]\r\n",
      "}\r\n"
     ]
    }
   ],
   "source": [
    "!aws sagemaker list-monitoring-schedules --max-item 3"
   ]
  },
  {
   "cell_type": "code",
   "execution_count": 234,
   "metadata": {
    "scrolled": true
   },
   "outputs": [
    {
     "name": "stdout",
     "output_type": "stream",
     "text": [
      "{\r\n",
      "    \"MonitoringExecutionSummaries\": [\r\n",
      "        {\r\n",
      "            \"MonitoringScheduleName\": \"mlops-iris-model-prd-8b5901b7-6769-4bba-841e-d60c39bf6d38\",\r\n",
      "            \"ScheduledTime\": 1582596000.0,\r\n",
      "            \"CreationTime\": 1582596556.509,\r\n",
      "            \"LastModifiedTime\": 1582596756.182,\r\n",
      "            \"MonitoringExecutionStatus\": \"Failed\",\r\n",
      "            \"ProcessingJobArn\": \"arn:aws:sagemaker:ap-southeast-2:691313291965:processing-job/model-monitoring-202002250200-7fddbfd8ed9e7afc5e315355\",\r\n",
      "            \"EndpointName\": \"mlops-iris-model-prd-8b5901b7-6769-4bba-841e-d60c39bf6d38\",\r\n",
      "            \"FailureReason\": \"ClientError: Failed to download data. S3 key: s3://sagemaker-ap-southeast-2-691313291965/mlops/datacapture/mlops-iris-model-prd-8b5901b7-6769-4bba-841e-d60c39bf6d38/mlops-iris-model-prd-8b5901b7-6769-4bba-841e-d60c39bf6d38/2020/02/25/01 matched no files on s3\"\r\n",
      "        }\r\n",
      "    ],\r\n",
      "    \"NextToken\": \"eyJOZXh0VG9rZW4iOiBudWxsLCAiYm90b190cnVuY2F0ZV9hbW91bnQiOiAxfQ==\"\r\n",
      "}\r\n"
     ]
    }
   ],
   "source": [
    "!aws sagemaker list-monitoring-executions  --monitoring-schedule-name $endpoint_name --max-item 1"
   ]
  },
  {
   "cell_type": "code",
   "execution_count": 159,
   "metadata": {},
   "outputs": [
    {
     "name": "stdout",
     "output_type": "stream",
     "text": [
      "We created a hourly schedule above and it will kick off executions ON the hour (plus 0 - 20 min buffer).\n",
      "We will have to wait till we hit the hour...\n"
     ]
    }
   ],
   "source": [
    "import time\n",
    "\n",
    "mon_executions = my_default_monitor.list_executions()\n",
    "print(\"We created a hourly schedule above and it will kick off executions ON the hour (plus 0 - 20 min buffer).\")\n",
    "print(\"We will have to wait till we hit the hour...\")\n",
    "\n",
    "while len(mon_executions) == 0:\n",
    "    time.sleep(30)\n",
    "    print(\"Waiting for the 1st execution to happen...\")\n",
    "    mon_executions = my_default_monitor.list_executions()"
   ]
  },
  {
   "cell_type": "markdown",
   "metadata": {},
   "source": [
    "### Inspect a specific execution (latest execution)\n",
    "In the previous cell, you picked up the latest completed or failed scheduled execution. Here are the possible terminal states and what each of them mean: \n",
    "* Completed - This means the monitoring execution completed and no issues were found in the violations report.\n",
    "* CompletedWithViolations - This means the execution completed, but constraint violations were detected.\n",
    "* Failed - The monitoring execution failed, maybe due to client error (perhaps incorrect role premissions) or infrastructure issues. Further examination of FailureReason and ExitMessage is necessary to identify what exactly happened.\n",
    "* Stopped - job exceeded max runtime or was manually stopped."
   ]
  },
  {
   "cell_type": "code",
   "execution_count": 235,
   "metadata": {},
   "outputs": [
    {
     "name": "stdout",
     "output_type": "stream",
     "text": [
      "2020-02-25 02:12 Failed\n",
      "arn:aws:sagemaker:ap-southeast-2:691313291965:processing-job/model-monitoring-202002250200-7fddbfd8ed9e7afc5e315355\n",
      "2020-02-25 01:12 Failed\n",
      "arn:aws:sagemaker:ap-southeast-2:691313291965:processing-job/model-monitoring-202002250100-1b63c0cb8518373fd3133282\n",
      "2020-02-25 00:13 Completed\n",
      "arn:aws:sagemaker:ap-southeast-2:691313291965:processing-job/model-monitoring-202002250000-722504343ca4f1f695cec195\n",
      "!Latest execution result: CompletedWithViolations: Job completed successfully with 16 violations.\n"
     ]
    }
   ],
   "source": [
    "mon_executions = my_default_monitor.list_executions()\n",
    "\n",
    "# get the latest completed schedule\n",
    "for execution in mon_executions[::-1]:\n",
    "    latest_job = execution.describe()\n",
    "    print('{:%Y-%m-%d %H:%M} {}\\n{}'.format(latest_job['ProcessingEndTime'], \n",
    "                                            latest_job['ProcessingJobStatus'],\n",
    "                                            latest_job['ProcessingJobArn']))\n",
    "    if latest_job['ProcessingJobStatus'] == 'Completed':\n",
    "        break\n",
    "    time.sleep(1)\n",
    "           \n",
    "if latest_job['ProcessingJobStatus'] == 'Completed':\n",
    "    execution.wait(logs=False)\n",
    "    print(\"Latest execution result: {}\".format(latest_job['ExitMessage']))\n",
    "else:\n",
    "    print(\"====STOP====\\nNo completed executions to inspect further. \\nPlease wait till an execution completes or investigate previously reported failures.\")"
   ]
  },
  {
   "cell_type": "markdown",
   "metadata": {},
   "source": [
    "### Visualize the schedule"
   ]
  },
  {
   "cell_type": "code",
   "execution_count": 236,
   "metadata": {},
   "outputs": [],
   "source": [
    "from IPython.display import HTML, display\n",
    "import json\n",
    "import os\n",
    "import boto3\n",
    "\n",
    "import sagemaker\n",
    "from sagemaker import session\n",
    "from sagemaker.model_monitor import MonitoringExecution\n",
    "from sagemaker.s3 import S3Downloader"
   ]
  },
  {
   "cell_type": "code",
   "execution_count": 237,
   "metadata": {},
   "outputs": [
    {
     "name": "stdout",
     "output_type": "stream",
     "text": [
      "--2020-02-25 03:56:00--  https://raw.githubusercontent.com/awslabs/amazon-sagemaker-examples/master/sagemaker_model_monitor/visualization/utils.py\n",
      "Resolving raw.githubusercontent.com (raw.githubusercontent.com)... 151.101.28.133\n",
      "Connecting to raw.githubusercontent.com (raw.githubusercontent.com)|151.101.28.133|:443... connected.\n",
      "HTTP request sent, awaiting response... 200 OK\n",
      "Length: 12655 (12K) [text/plain]\n",
      "Saving to: ‘utils.py’\n",
      "\n",
      "utils.py            100%[===================>]  12.36K  --.-KB/s    in 0s      \n",
      "\n",
      "2020-02-25 03:56:00 (96.2 MB/s) - ‘utils.py’ saved [12655/12655]\n",
      "\n"
     ]
    }
   ],
   "source": [
    "!wget -O utils.py https://raw.githubusercontent.com/awslabs/amazon-sagemaker-examples/master/sagemaker_model_monitor/visualization/utils.py\n",
    "\n",
    "import utils as mu"
   ]
  },
  {
   "cell_type": "code",
   "execution_count": 238,
   "metadata": {},
   "outputs": [],
   "source": [
    "# processing_job_arn = latest_job['ProcessingJobArn']\n",
    "# execution = MonitoringExecution.from_processing_arn(sagemaker_session=session.Session(), processing_job_arn=processing_job_arn)"
   ]
  },
  {
   "cell_type": "code",
   "execution_count": 239,
   "metadata": {},
   "outputs": [
    {
     "data": {
      "text/plain": [
       "'CompletedWithViolations: Job completed successfully with 16 violations.'"
      ]
     },
     "execution_count": 239,
     "metadata": {},
     "output_type": "execute_result"
    }
   ],
   "source": [
    "execution.describe()['ExitMessage']"
   ]
  },
  {
   "cell_type": "code",
   "execution_count": 240,
   "metadata": {},
   "outputs": [],
   "source": [
    "exec_inputs = {inp['InputName']: inp for inp in execution.describe()['ProcessingInputs']}\n",
    "exec_results = execution.output.destination"
   ]
  },
  {
   "cell_type": "code",
   "execution_count": 241,
   "metadata": {},
   "outputs": [],
   "source": [
    "baseline_statistics_filepath = exec_inputs['baseline']['S3Input']['S3Uri'] if 'baseline' in exec_inputs else None\n",
    "execution_statistics_filepath = os.path.join(exec_results, 'statistics.json')\n",
    "violations_filepath = os.path.join(exec_results, 'constraint_violations.json')\n",
    "\n",
    "baseline_statistics = json.loads(S3Downloader.read_file(baseline_statistics_filepath)) if baseline_statistics_filepath is not None else None\n",
    "execution_statistics = json.loads(S3Downloader.read_file(execution_statistics_filepath))\n",
    "violations = json.loads(S3Downloader.read_file(violations_filepath))['violations']"
   ]
  },
  {
   "cell_type": "markdown",
   "metadata": {},
   "source": [
    "## Overview\n",
    "\n",
    "The code below shows the violations and constraichecks across all features in a simple table."
   ]
  },
  {
   "cell_type": "code",
   "execution_count": 243,
   "metadata": {},
   "outputs": [
    {
     "data": {
      "text/html": [
       "<style  type=\"text/css\" >\n",
       "    #T_bfe081c2_5782_11ea_83f4_1f0506c08085row0_col0 {\n",
       "            background-color:  white;\n",
       "            background-color:  #fff7dc;\n",
       "            background-color:  orange;\n",
       "        }    #T_bfe081c2_5782_11ea_83f4_1f0506c08085row0_col1 {\n",
       "            background-color:  white;\n",
       "            background-color:  #fff7dc;\n",
       "            background-color:  orange;\n",
       "        }    #T_bfe081c2_5782_11ea_83f4_1f0506c08085row0_col2 {\n",
       "            background-color:  white;\n",
       "            background-color:  #fff7dc;\n",
       "            background-color:  orange;\n",
       "        }    #T_bfe081c2_5782_11ea_83f4_1f0506c08085row0_col3 {\n",
       "            background-color:  white;\n",
       "            background-color:  #fff7dc;\n",
       "            background-color:  orange;\n",
       "        }    #T_bfe081c2_5782_11ea_83f4_1f0506c08085row1_col0 {\n",
       "            background-color:  white;\n",
       "            background-color:  #fff7dc;\n",
       "            : ;\n",
       "        }    #T_bfe081c2_5782_11ea_83f4_1f0506c08085row1_col1 {\n",
       "            background-color:  white;\n",
       "            background-color:  #fff7dc;\n",
       "            : ;\n",
       "        }    #T_bfe081c2_5782_11ea_83f4_1f0506c08085row1_col2 {\n",
       "            background-color:  white;\n",
       "            background-color:  #fff7dc;\n",
       "            background-color:  orange;\n",
       "        }    #T_bfe081c2_5782_11ea_83f4_1f0506c08085row1_col3 {\n",
       "            background-color:  white;\n",
       "            background-color:  #fff7dc;\n",
       "            : ;\n",
       "        }    #T_bfe081c2_5782_11ea_83f4_1f0506c08085row2_col0 {\n",
       "            background-color:  white;\n",
       "            background-color:  #fff7dc;\n",
       "            : ;\n",
       "        }    #T_bfe081c2_5782_11ea_83f4_1f0506c08085row2_col1 {\n",
       "            background-color:  white;\n",
       "            background-color:  #fff7dc;\n",
       "            : ;\n",
       "        }    #T_bfe081c2_5782_11ea_83f4_1f0506c08085row2_col2 {\n",
       "            background-color:  white;\n",
       "            background-color:  #fff7dc;\n",
       "            background-color:  orange;\n",
       "        }    #T_bfe081c2_5782_11ea_83f4_1f0506c08085row2_col3 {\n",
       "            background-color:  white;\n",
       "            background-color:  #fff7dc;\n",
       "            : ;\n",
       "        }    #T_bfe081c2_5782_11ea_83f4_1f0506c08085row3_col0 {\n",
       "            background-color:  white;\n",
       "            background-color:  #fff7dc;\n",
       "            : ;\n",
       "        }    #T_bfe081c2_5782_11ea_83f4_1f0506c08085row3_col1 {\n",
       "            background-color:  white;\n",
       "            background-color:  #fff7dc;\n",
       "            : ;\n",
       "        }    #T_bfe081c2_5782_11ea_83f4_1f0506c08085row3_col2 {\n",
       "            background-color:  white;\n",
       "            background-color:  #fff7dc;\n",
       "            background-color:  orange;\n",
       "        }    #T_bfe081c2_5782_11ea_83f4_1f0506c08085row3_col3 {\n",
       "            background-color:  white;\n",
       "            background-color:  #fff7dc;\n",
       "            : ;\n",
       "        }    #T_bfe081c2_5782_11ea_83f4_1f0506c08085row4_col0 {\n",
       "            background-color:  white;\n",
       "            background-color:  #fff7dc;\n",
       "            : ;\n",
       "        }    #T_bfe081c2_5782_11ea_83f4_1f0506c08085row4_col1 {\n",
       "            background-color:  white;\n",
       "            background-color:  #fff7dc;\n",
       "            : ;\n",
       "        }    #T_bfe081c2_5782_11ea_83f4_1f0506c08085row4_col2 {\n",
       "            background-color:  white;\n",
       "            background-color:  #fff7dc;\n",
       "            background-color:  orange;\n",
       "        }    #T_bfe081c2_5782_11ea_83f4_1f0506c08085row4_col3 {\n",
       "            background-color:  white;\n",
       "            background-color:  #fff7dc;\n",
       "            : ;\n",
       "        }    #T_bfe081c2_5782_11ea_83f4_1f0506c08085row5_col0 {\n",
       "            background-color:  white;\n",
       "            background-color:  #fff7dc;\n",
       "            : ;\n",
       "        }    #T_bfe081c2_5782_11ea_83f4_1f0506c08085row5_col1 {\n",
       "            background-color:  white;\n",
       "            background-color:  #fff7dc;\n",
       "            : ;\n",
       "        }    #T_bfe081c2_5782_11ea_83f4_1f0506c08085row5_col2 {\n",
       "            background-color:  white;\n",
       "            background-color:  #fff7dc;\n",
       "            background-color:  orange;\n",
       "        }    #T_bfe081c2_5782_11ea_83f4_1f0506c08085row5_col3 {\n",
       "            background-color:  white;\n",
       "            background-color:  #fff7dc;\n",
       "            : ;\n",
       "        }    #T_bfe081c2_5782_11ea_83f4_1f0506c08085row6_col0 {\n",
       "            background-color:  white;\n",
       "            background-color:  #fff7dc;\n",
       "            : ;\n",
       "        }    #T_bfe081c2_5782_11ea_83f4_1f0506c08085row6_col1 {\n",
       "            background-color:  white;\n",
       "            background-color:  #fff7dc;\n",
       "            : ;\n",
       "        }    #T_bfe081c2_5782_11ea_83f4_1f0506c08085row6_col2 {\n",
       "            background-color:  white;\n",
       "            background-color:  #fff7dc;\n",
       "            background-color:  orange;\n",
       "        }    #T_bfe081c2_5782_11ea_83f4_1f0506c08085row6_col3 {\n",
       "            background-color:  white;\n",
       "            background-color:  #fff7dc;\n",
       "            : ;\n",
       "        }    #T_bfe081c2_5782_11ea_83f4_1f0506c08085row7_col0 {\n",
       "            background-color:  white;\n",
       "            background-color:  #fff7dc;\n",
       "            : ;\n",
       "        }    #T_bfe081c2_5782_11ea_83f4_1f0506c08085row7_col1 {\n",
       "            background-color:  white;\n",
       "            background-color:  #fff7dc;\n",
       "            background-color:  orange;\n",
       "        }    #T_bfe081c2_5782_11ea_83f4_1f0506c08085row7_col2 {\n",
       "            background-color:  white;\n",
       "            background-color:  #fff7dc;\n",
       "            : ;\n",
       "        }    #T_bfe081c2_5782_11ea_83f4_1f0506c08085row7_col3 {\n",
       "            background-color:  white;\n",
       "            background-color:  #fff7dc;\n",
       "            : ;\n",
       "        }    #T_bfe081c2_5782_11ea_83f4_1f0506c08085row8_col0 {\n",
       "            background-color:  white;\n",
       "            background-color:  #fff7dc;\n",
       "            : ;\n",
       "        }    #T_bfe081c2_5782_11ea_83f4_1f0506c08085row8_col1 {\n",
       "            background-color:  white;\n",
       "            background-color:  #fff7dc;\n",
       "            : ;\n",
       "        }    #T_bfe081c2_5782_11ea_83f4_1f0506c08085row8_col2 {\n",
       "            background-color:  white;\n",
       "            background-color:  #fff7dc;\n",
       "            background-color:  orange;\n",
       "        }    #T_bfe081c2_5782_11ea_83f4_1f0506c08085row8_col3 {\n",
       "            background-color:  white;\n",
       "            background-color:  #fff7dc;\n",
       "            : ;\n",
       "        }    #T_bfe081c2_5782_11ea_83f4_1f0506c08085row9_col0 {\n",
       "            background-color:  white;\n",
       "            background-color:  #fff7dc;\n",
       "            : ;\n",
       "        }    #T_bfe081c2_5782_11ea_83f4_1f0506c08085row9_col1 {\n",
       "            background-color:  white;\n",
       "            background-color:  #fff7dc;\n",
       "            : ;\n",
       "        }    #T_bfe081c2_5782_11ea_83f4_1f0506c08085row9_col2 {\n",
       "            background-color:  white;\n",
       "            background-color:  #fff7dc;\n",
       "            background-color:  orange;\n",
       "        }    #T_bfe081c2_5782_11ea_83f4_1f0506c08085row9_col3 {\n",
       "            background-color:  white;\n",
       "            background-color:  #fff7dc;\n",
       "            : ;\n",
       "        }    #T_bfe081c2_5782_11ea_83f4_1f0506c08085row10_col0 {\n",
       "            background-color:  white;\n",
       "            background-color:  #fff7dc;\n",
       "            : ;\n",
       "        }    #T_bfe081c2_5782_11ea_83f4_1f0506c08085row10_col1 {\n",
       "            background-color:  white;\n",
       "            background-color:  #fff7dc;\n",
       "            : ;\n",
       "        }    #T_bfe081c2_5782_11ea_83f4_1f0506c08085row10_col2 {\n",
       "            background-color:  white;\n",
       "            background-color:  #fff7dc;\n",
       "            background-color:  orange;\n",
       "        }    #T_bfe081c2_5782_11ea_83f4_1f0506c08085row10_col3 {\n",
       "            background-color:  white;\n",
       "            background-color:  #fff7dc;\n",
       "            : ;\n",
       "        }    #T_bfe081c2_5782_11ea_83f4_1f0506c08085row11_col0 {\n",
       "            background-color:  white;\n",
       "            background-color:  #fff7dc;\n",
       "            : ;\n",
       "        }    #T_bfe081c2_5782_11ea_83f4_1f0506c08085row11_col1 {\n",
       "            background-color:  white;\n",
       "            background-color:  #fff7dc;\n",
       "            background-color:  orange;\n",
       "        }    #T_bfe081c2_5782_11ea_83f4_1f0506c08085row11_col2 {\n",
       "            background-color:  white;\n",
       "            background-color:  #fff7dc;\n",
       "            : ;\n",
       "        }    #T_bfe081c2_5782_11ea_83f4_1f0506c08085row11_col3 {\n",
       "            background-color:  white;\n",
       "            background-color:  #fff7dc;\n",
       "            : ;\n",
       "        }    #T_bfe081c2_5782_11ea_83f4_1f0506c08085row12_col0 {\n",
       "            background-color:  white;\n",
       "            background-color:  #fff7dc;\n",
       "            : ;\n",
       "        }    #T_bfe081c2_5782_11ea_83f4_1f0506c08085row12_col1 {\n",
       "            background-color:  white;\n",
       "            background-color:  #fff7dc;\n",
       "            background-color:  orange;\n",
       "        }    #T_bfe081c2_5782_11ea_83f4_1f0506c08085row12_col2 {\n",
       "            background-color:  white;\n",
       "            background-color:  #fff7dc;\n",
       "            : ;\n",
       "        }    #T_bfe081c2_5782_11ea_83f4_1f0506c08085row12_col3 {\n",
       "            background-color:  white;\n",
       "            background-color:  #fff7dc;\n",
       "            : ;\n",
       "        }</style><table id=\"T_bfe081c2_5782_11ea_83f4_1f0506c08085\" ><thead>    <tr>        <th class=\"blank level0\" ></th>        <th class=\"col_heading level0 col0\" >data_type</th>        <th class=\"col_heading level0 col1\" >completeness</th>        <th class=\"col_heading level0 col2\" >baseline_drift</th>        <th class=\"col_heading level0 col3\" >categorical_values</th>    </tr></thead><tbody>\n",
       "                <tr>\n",
       "                        <th id=\"T_bfe081c2_5782_11ea_83f4_1f0506c08085level0_row0\" class=\"row_heading level0 row0\" >class_predictions</th>\n",
       "                        <td id=\"T_bfe081c2_5782_11ea_83f4_1f0506c08085row0_col0\" class=\"data row0 col0\" >String</td>\n",
       "                        <td id=\"T_bfe081c2_5782_11ea_83f4_1f0506c08085row0_col1\" class=\"data row0 col1\" >97.86%</td>\n",
       "                        <td id=\"T_bfe081c2_5782_11ea_83f4_1f0506c08085row0_col2\" class=\"data row0 col2\" >44.36%</td>\n",
       "                        <td id=\"T_bfe081c2_5782_11ea_83f4_1f0506c08085row0_col3\" class=\"data row0 col3\" >N/A</td>\n",
       "            </tr>\n",
       "            <tr>\n",
       "                        <th id=\"T_bfe081c2_5782_11ea_83f4_1f0506c08085level0_row1\" class=\"row_heading level0 row1\" >class_probabilities_<UNK></th>\n",
       "                        <td id=\"T_bfe081c2_5782_11ea_83f4_1f0506c08085row1_col0\" class=\"data row1 col0\" >Fractional</td>\n",
       "                        <td id=\"T_bfe081c2_5782_11ea_83f4_1f0506c08085row1_col1\" class=\"data row1 col1\" >100.00%</td>\n",
       "                        <td id=\"T_bfe081c2_5782_11ea_83f4_1f0506c08085row1_col2\" class=\"data row1 col2\" >58.43%</td>\n",
       "                        <td id=\"T_bfe081c2_5782_11ea_83f4_1f0506c08085row1_col3\" class=\"data row1 col3\" >N/A</td>\n",
       "            </tr>\n",
       "            <tr>\n",
       "                        <th id=\"T_bfe081c2_5782_11ea_83f4_1f0506c08085level0_row2\" class=\"row_heading level0 row2\" >class_probabilities___label__eating_out</th>\n",
       "                        <td id=\"T_bfe081c2_5782_11ea_83f4_1f0506c08085row2_col0\" class=\"data row2 col0\" >Fractional</td>\n",
       "                        <td id=\"T_bfe081c2_5782_11ea_83f4_1f0506c08085row2_col1\" class=\"data row2 col1\" >100.00%</td>\n",
       "                        <td id=\"T_bfe081c2_5782_11ea_83f4_1f0506c08085row2_col2\" class=\"data row2 col2\" >17.40%</td>\n",
       "                        <td id=\"T_bfe081c2_5782_11ea_83f4_1f0506c08085row2_col3\" class=\"data row2 col3\" >N/A</td>\n",
       "            </tr>\n",
       "            <tr>\n",
       "                        <th id=\"T_bfe081c2_5782_11ea_83f4_1f0506c08085level0_row3\" class=\"row_heading level0 row3\" >class_probabilities___label__education</th>\n",
       "                        <td id=\"T_bfe081c2_5782_11ea_83f4_1f0506c08085row3_col0\" class=\"data row3 col0\" >Fractional</td>\n",
       "                        <td id=\"T_bfe081c2_5782_11ea_83f4_1f0506c08085row3_col1\" class=\"data row3 col1\" >100.00%</td>\n",
       "                        <td id=\"T_bfe081c2_5782_11ea_83f4_1f0506c08085row3_col2\" class=\"data row3 col2\" >58.01%</td>\n",
       "                        <td id=\"T_bfe081c2_5782_11ea_83f4_1f0506c08085row3_col3\" class=\"data row3 col3\" >N/A</td>\n",
       "            </tr>\n",
       "            <tr>\n",
       "                        <th id=\"T_bfe081c2_5782_11ea_83f4_1f0506c08085level0_row4\" class=\"row_heading level0 row4\" >class_probabilities___label__entertainment</th>\n",
       "                        <td id=\"T_bfe081c2_5782_11ea_83f4_1f0506c08085row4_col0\" class=\"data row4 col0\" >Fractional</td>\n",
       "                        <td id=\"T_bfe081c2_5782_11ea_83f4_1f0506c08085row4_col1\" class=\"data row4 col1\" >100.00%</td>\n",
       "                        <td id=\"T_bfe081c2_5782_11ea_83f4_1f0506c08085row4_col2\" class=\"data row4 col2\" >32.52%</td>\n",
       "                        <td id=\"T_bfe081c2_5782_11ea_83f4_1f0506c08085row4_col3\" class=\"data row4 col3\" >N/A</td>\n",
       "            </tr>\n",
       "            <tr>\n",
       "                        <th id=\"T_bfe081c2_5782_11ea_83f4_1f0506c08085level0_row5\" class=\"row_heading level0 row5\" >class_probabilities___label__groceries</th>\n",
       "                        <td id=\"T_bfe081c2_5782_11ea_83f4_1f0506c08085row5_col0\" class=\"data row5 col0\" >Fractional</td>\n",
       "                        <td id=\"T_bfe081c2_5782_11ea_83f4_1f0506c08085row5_col1\" class=\"data row5 col1\" >100.00%</td>\n",
       "                        <td id=\"T_bfe081c2_5782_11ea_83f4_1f0506c08085row5_col2\" class=\"data row5 col2\" >38.77%</td>\n",
       "                        <td id=\"T_bfe081c2_5782_11ea_83f4_1f0506c08085row5_col3\" class=\"data row5 col3\" >N/A</td>\n",
       "            </tr>\n",
       "            <tr>\n",
       "                        <th id=\"T_bfe081c2_5782_11ea_83f4_1f0506c08085level0_row6\" class=\"row_heading level0 row6\" >class_probabilities___label__health</th>\n",
       "                        <td id=\"T_bfe081c2_5782_11ea_83f4_1f0506c08085row6_col0\" class=\"data row6 col0\" >Fractional</td>\n",
       "                        <td id=\"T_bfe081c2_5782_11ea_83f4_1f0506c08085row6_col1\" class=\"data row6 col1\" >100.00%</td>\n",
       "                        <td id=\"T_bfe081c2_5782_11ea_83f4_1f0506c08085row6_col2\" class=\"data row6 col2\" >45.85%</td>\n",
       "                        <td id=\"T_bfe081c2_5782_11ea_83f4_1f0506c08085row6_col3\" class=\"data row6 col3\" >N/A</td>\n",
       "            </tr>\n",
       "            <tr>\n",
       "                        <th id=\"T_bfe081c2_5782_11ea_83f4_1f0506c08085level0_row7\" class=\"row_heading level0 row7\" >class_probabilities___label__home</th>\n",
       "                        <td id=\"T_bfe081c2_5782_11ea_83f4_1f0506c08085row7_col0\" class=\"data row7 col0\" >Fractional</td>\n",
       "                        <td id=\"T_bfe081c2_5782_11ea_83f4_1f0506c08085row7_col1\" class=\"data row7 col1\" >17.40%</td>\n",
       "                        <td id=\"T_bfe081c2_5782_11ea_83f4_1f0506c08085row7_col2\" class=\"data row7 col2\" >N/A</td>\n",
       "                        <td id=\"T_bfe081c2_5782_11ea_83f4_1f0506c08085row7_col3\" class=\"data row7 col3\" >N/A</td>\n",
       "            </tr>\n",
       "            <tr>\n",
       "                        <th id=\"T_bfe081c2_5782_11ea_83f4_1f0506c08085level0_row8\" class=\"row_heading level0 row8\" >class_probabilities___label__shopping</th>\n",
       "                        <td id=\"T_bfe081c2_5782_11ea_83f4_1f0506c08085row8_col0\" class=\"data row8 col0\" >Fractional</td>\n",
       "                        <td id=\"T_bfe081c2_5782_11ea_83f4_1f0506c08085row8_col1\" class=\"data row8 col1\" >100.00%</td>\n",
       "                        <td id=\"T_bfe081c2_5782_11ea_83f4_1f0506c08085row8_col2\" class=\"data row8 col2\" >29.44%</td>\n",
       "                        <td id=\"T_bfe081c2_5782_11ea_83f4_1f0506c08085row8_col3\" class=\"data row8 col3\" >N/A</td>\n",
       "            </tr>\n",
       "            <tr>\n",
       "                        <th id=\"T_bfe081c2_5782_11ea_83f4_1f0506c08085level0_row9\" class=\"row_heading level0 row9\" >class_probabilities___label__transport</th>\n",
       "                        <td id=\"T_bfe081c2_5782_11ea_83f4_1f0506c08085row9_col0\" class=\"data row9 col0\" >Fractional</td>\n",
       "                        <td id=\"T_bfe081c2_5782_11ea_83f4_1f0506c08085row9_col1\" class=\"data row9 col1\" >100.00%</td>\n",
       "                        <td id=\"T_bfe081c2_5782_11ea_83f4_1f0506c08085row9_col2\" class=\"data row9 col2\" >26.80%</td>\n",
       "                        <td id=\"T_bfe081c2_5782_11ea_83f4_1f0506c08085row9_col3\" class=\"data row9 col3\" >N/A</td>\n",
       "            </tr>\n",
       "            <tr>\n",
       "                        <th id=\"T_bfe081c2_5782_11ea_83f4_1f0506c08085level0_row10\" class=\"row_heading level0 row10\" >class_probabilities___label__travel</th>\n",
       "                        <td id=\"T_bfe081c2_5782_11ea_83f4_1f0506c08085row10_col0\" class=\"data row10 col0\" >Fractional</td>\n",
       "                        <td id=\"T_bfe081c2_5782_11ea_83f4_1f0506c08085row10_col1\" class=\"data row10 col1\" >100.00%</td>\n",
       "                        <td id=\"T_bfe081c2_5782_11ea_83f4_1f0506c08085row10_col2\" class=\"data row10 col2\" >35.59%</td>\n",
       "                        <td id=\"T_bfe081c2_5782_11ea_83f4_1f0506c08085row10_col3\" class=\"data row10 col3\" >N/A</td>\n",
       "            </tr>\n",
       "            <tr>\n",
       "                        <th id=\"T_bfe081c2_5782_11ea_83f4_1f0506c08085level0_row11\" class=\"row_heading level0 row11\" >class_probabilities___label__utilities</th>\n",
       "                        <td id=\"T_bfe081c2_5782_11ea_83f4_1f0506c08085row11_col0\" class=\"data row11 col0\" >Fractional</td>\n",
       "                        <td id=\"T_bfe081c2_5782_11ea_83f4_1f0506c08085row11_col1\" class=\"data row11 col1\" >0.10%</td>\n",
       "                        <td id=\"T_bfe081c2_5782_11ea_83f4_1f0506c08085row11_col2\" class=\"data row11 col2\" >N/A</td>\n",
       "                        <td id=\"T_bfe081c2_5782_11ea_83f4_1f0506c08085row11_col3\" class=\"data row11 col3\" >N/A</td>\n",
       "            </tr>\n",
       "            <tr>\n",
       "                        <th id=\"T_bfe081c2_5782_11ea_83f4_1f0506c08085level0_row12\" class=\"row_heading level0 row12\" >class_probability</th>\n",
       "                        <td id=\"T_bfe081c2_5782_11ea_83f4_1f0506c08085row12_col0\" class=\"data row12 col0\" >Fractional</td>\n",
       "                        <td id=\"T_bfe081c2_5782_11ea_83f4_1f0506c08085row12_col1\" class=\"data row12 col1\" >0.10%</td>\n",
       "                        <td id=\"T_bfe081c2_5782_11ea_83f4_1f0506c08085row12_col2\" class=\"data row12 col2\" >N/A</td>\n",
       "                        <td id=\"T_bfe081c2_5782_11ea_83f4_1f0506c08085row12_col3\" class=\"data row12 col3\" >N/A</td>\n",
       "            </tr>\n",
       "    </tbody></table>"
      ],
      "text/plain": [
       "<pandas.io.formats.style.Styler at 0x7f03c574dfd0>"
      ]
     },
     "execution_count": 243,
     "metadata": {},
     "output_type": "execute_result"
    }
   ],
   "source": [
    "mu.show_violation_df(baseline_statistics=baseline_statistics, latest_statistics=execution_statistics, violations=violations)"
   ]
  },
  {
   "cell_type": "markdown",
   "metadata": {},
   "source": [
    "## Distributions\n",
    "\n",
    "This section visualizes the distribution and renders the distribution statistics for all features"
   ]
  },
  {
   "cell_type": "code",
   "execution_count": 72,
   "metadata": {},
   "outputs": [
    {
     "data": {
      "text/html": [
       "<h3>Numerical Features</h3>"
      ],
      "text/plain": [
       "<IPython.core.display.HTML object>"
      ]
     },
     "metadata": {},
     "output_type": "display_data"
    },
    {
     "data": {
      "text/html": [
       "<div>\n",
       "<style scoped>\n",
       "    .dataframe tbody tr th:only-of-type {\n",
       "        vertical-align: middle;\n",
       "    }\n",
       "\n",
       "    .dataframe tbody tr th {\n",
       "        vertical-align: top;\n",
       "    }\n",
       "\n",
       "    .dataframe thead th {\n",
       "        text-align: right;\n",
       "    }\n",
       "</style>\n",
       "<table border=\"1\" class=\"dataframe\">\n",
       "  <thead>\n",
       "    <tr style=\"text-align: right;\">\n",
       "      <th></th>\n",
       "      <th>num_present</th>\n",
       "      <th>num_missing</th>\n",
       "      <th>mean</th>\n",
       "      <th>sum</th>\n",
       "      <th>std_dev</th>\n",
       "      <th>min</th>\n",
       "      <th>max</th>\n",
       "    </tr>\n",
       "  </thead>\n",
       "  <tbody>\n",
       "    <tr>\n",
       "      <th>class_probabilities_&lt;UNK&gt;</th>\n",
       "      <td>1306</td>\n",
       "      <td>0</td>\n",
       "      <td>0.036205</td>\n",
       "      <td>47.284029</td>\n",
       "      <td>4.082800e-02</td>\n",
       "      <td>1.373700e-06</td>\n",
       "      <td>0.124787</td>\n",
       "    </tr>\n",
       "    <tr>\n",
       "      <th>class_probabilities___label__eating_out</th>\n",
       "      <td>1306</td>\n",
       "      <td>0</td>\n",
       "      <td>0.041647</td>\n",
       "      <td>54.390415</td>\n",
       "      <td>6.766435e-02</td>\n",
       "      <td>1.957000e-07</td>\n",
       "      <td>0.998757</td>\n",
       "    </tr>\n",
       "    <tr>\n",
       "      <th>class_probabilities___label__groceries</th>\n",
       "      <td>1306</td>\n",
       "      <td>0</td>\n",
       "      <td>0.094823</td>\n",
       "      <td>123.838483</td>\n",
       "      <td>2.619741e-01</td>\n",
       "      <td>5.250000e-08</td>\n",
       "      <td>0.999868</td>\n",
       "    </tr>\n",
       "    <tr>\n",
       "      <th>class_probabilities___label__transport</th>\n",
       "      <td>1306</td>\n",
       "      <td>0</td>\n",
       "      <td>0.114313</td>\n",
       "      <td>149.293094</td>\n",
       "      <td>2.558476e-01</td>\n",
       "      <td>6.400000e-09</td>\n",
       "      <td>0.996017</td>\n",
       "    </tr>\n",
       "    <tr>\n",
       "      <th>class_probabilities___label__shopping</th>\n",
       "      <td>1306</td>\n",
       "      <td>0</td>\n",
       "      <td>0.035557</td>\n",
       "      <td>46.436822</td>\n",
       "      <td>3.790597e-02</td>\n",
       "      <td>1.600000e-09</td>\n",
       "      <td>0.102824</td>\n",
       "    </tr>\n",
       "    <tr>\n",
       "      <th>class_probabilities___label__health</th>\n",
       "      <td>1306</td>\n",
       "      <td>0</td>\n",
       "      <td>0.089912</td>\n",
       "      <td>117.424772</td>\n",
       "      <td>2.624699e-01</td>\n",
       "      <td>1.770000e-08</td>\n",
       "      <td>0.998542</td>\n",
       "    </tr>\n",
       "    <tr>\n",
       "      <th>class_probabilities___label__travel</th>\n",
       "      <td>1306</td>\n",
       "      <td>0</td>\n",
       "      <td>0.017179</td>\n",
       "      <td>22.435423</td>\n",
       "      <td>3.231457e-02</td>\n",
       "      <td>7.000000e-09</td>\n",
       "      <td>0.996017</td>\n",
       "    </tr>\n",
       "    <tr>\n",
       "      <th>class_probabilities___label__entertainment</th>\n",
       "      <td>1306</td>\n",
       "      <td>0</td>\n",
       "      <td>0.024383</td>\n",
       "      <td>31.843740</td>\n",
       "      <td>2.581741e-02</td>\n",
       "      <td>8.100000e-09</td>\n",
       "      <td>0.063283</td>\n",
       "    </tr>\n",
       "    <tr>\n",
       "      <th>class_probabilities___label__education</th>\n",
       "      <td>1306</td>\n",
       "      <td>0</td>\n",
       "      <td>0.607845</td>\n",
       "      <td>793.846203</td>\n",
       "      <td>3.669745e-01</td>\n",
       "      <td>3.322600e-06</td>\n",
       "      <td>0.999998</td>\n",
       "    </tr>\n",
       "    <tr>\n",
       "      <th>class_probabilities___label__home</th>\n",
       "      <td>234</td>\n",
       "      <td>1072</td>\n",
       "      <td>0.715335</td>\n",
       "      <td>167.388462</td>\n",
       "      <td>2.775592e-01</td>\n",
       "      <td>2.754450e-05</td>\n",
       "      <td>0.998542</td>\n",
       "    </tr>\n",
       "    <tr>\n",
       "      <th>class_probabilities___label__utilities</th>\n",
       "      <td>3</td>\n",
       "      <td>1303</td>\n",
       "      <td>0.000070</td>\n",
       "      <td>0.000210</td>\n",
       "      <td>2.588011e-07</td>\n",
       "      <td>6.966080e-05</td>\n",
       "      <td>0.000070</td>\n",
       "    </tr>\n",
       "    <tr>\n",
       "      <th>class_probability</th>\n",
       "      <td>3</td>\n",
       "      <td>1303</td>\n",
       "      <td>0.997844</td>\n",
       "      <td>2.993531</td>\n",
       "      <td>1.291632e-03</td>\n",
       "      <td>9.960172e-01</td>\n",
       "      <td>0.998757</td>\n",
       "    </tr>\n",
       "  </tbody>\n",
       "</table>\n",
       "</div>"
      ],
      "text/plain": [
       "                                            num_present  num_missing  \\\n",
       "class_probabilities_<UNK>                   1306         0             \n",
       "class_probabilities___label__eating_out     1306         0             \n",
       "class_probabilities___label__groceries      1306         0             \n",
       "class_probabilities___label__transport      1306         0             \n",
       "class_probabilities___label__shopping       1306         0             \n",
       "class_probabilities___label__health         1306         0             \n",
       "class_probabilities___label__travel         1306         0             \n",
       "class_probabilities___label__entertainment  1306         0             \n",
       "class_probabilities___label__education      1306         0             \n",
       "class_probabilities___label__home           234          1072          \n",
       "class_probabilities___label__utilities      3            1303          \n",
       "class_probability                           3            1303          \n",
       "\n",
       "                                                mean         sum  \\\n",
       "class_probabilities_<UNK>                   0.036205  47.284029    \n",
       "class_probabilities___label__eating_out     0.041647  54.390415    \n",
       "class_probabilities___label__groceries      0.094823  123.838483   \n",
       "class_probabilities___label__transport      0.114313  149.293094   \n",
       "class_probabilities___label__shopping       0.035557  46.436822    \n",
       "class_probabilities___label__health         0.089912  117.424772   \n",
       "class_probabilities___label__travel         0.017179  22.435423    \n",
       "class_probabilities___label__entertainment  0.024383  31.843740    \n",
       "class_probabilities___label__education      0.607845  793.846203   \n",
       "class_probabilities___label__home           0.715335  167.388462   \n",
       "class_probabilities___label__utilities      0.000070  0.000210     \n",
       "class_probability                           0.997844  2.993531     \n",
       "\n",
       "                                                 std_dev           min  \\\n",
       "class_probabilities_<UNK>                   4.082800e-02  1.373700e-06   \n",
       "class_probabilities___label__eating_out     6.766435e-02  1.957000e-07   \n",
       "class_probabilities___label__groceries      2.619741e-01  5.250000e-08   \n",
       "class_probabilities___label__transport      2.558476e-01  6.400000e-09   \n",
       "class_probabilities___label__shopping       3.790597e-02  1.600000e-09   \n",
       "class_probabilities___label__health         2.624699e-01  1.770000e-08   \n",
       "class_probabilities___label__travel         3.231457e-02  7.000000e-09   \n",
       "class_probabilities___label__entertainment  2.581741e-02  8.100000e-09   \n",
       "class_probabilities___label__education      3.669745e-01  3.322600e-06   \n",
       "class_probabilities___label__home           2.775592e-01  2.754450e-05   \n",
       "class_probabilities___label__utilities      2.588011e-07  6.966080e-05   \n",
       "class_probability                           1.291632e-03  9.960172e-01   \n",
       "\n",
       "                                                 max  \n",
       "class_probabilities_<UNK>                   0.124787  \n",
       "class_probabilities___label__eating_out     0.998757  \n",
       "class_probabilities___label__groceries      0.999868  \n",
       "class_probabilities___label__transport      0.996017  \n",
       "class_probabilities___label__shopping       0.102824  \n",
       "class_probabilities___label__health         0.998542  \n",
       "class_probabilities___label__travel         0.996017  \n",
       "class_probabilities___label__entertainment  0.063283  \n",
       "class_probabilities___label__education      0.999998  \n",
       "class_probabilities___label__home           0.998542  \n",
       "class_probabilities___label__utilities      0.000070  \n",
       "class_probability                           0.998757  "
      ]
     },
     "metadata": {},
     "output_type": "display_data"
    },
    {
     "data": {
      "image/png": "[encoded data removed]",
      "text/plain": [
       "<Figure size 1440x864 with 15 Axes>"
      ]
     },
     "metadata": {},
     "output_type": "display_data"
    },
    {
     "data": {
      "text/html": [
       "<h3>String Features</h3>"
      ],
      "text/plain": [
       "<IPython.core.display.HTML object>"
      ]
     },
     "metadata": {},
     "output_type": "display_data"
    },
    {
     "data": {
      "text/html": [
       "<div>\n",
       "<style scoped>\n",
       "    .dataframe tbody tr th:only-of-type {\n",
       "        vertical-align: middle;\n",
       "    }\n",
       "\n",
       "    .dataframe tbody tr th {\n",
       "        vertical-align: top;\n",
       "    }\n",
       "\n",
       "    .dataframe thead th {\n",
       "        text-align: right;\n",
       "    }\n",
       "</style>\n",
       "<table border=\"1\" class=\"dataframe\">\n",
       "  <thead>\n",
       "    <tr style=\"text-align: right;\">\n",
       "      <th></th>\n",
       "      <th>num_present</th>\n",
       "      <th>num_missing</th>\n",
       "      <th>distinct_count</th>\n",
       "    </tr>\n",
       "  </thead>\n",
       "  <tbody>\n",
       "    <tr>\n",
       "      <th>class_predictions</th>\n",
       "      <td>1279</td>\n",
       "      <td>27</td>\n",
       "      <td>31.0</td>\n",
       "    </tr>\n",
       "  </tbody>\n",
       "</table>\n",
       "</div>"
      ],
      "text/plain": [
       "                   num_present  num_missing  distinct_count\n",
       "class_predictions  1279         27           31.0          "
      ]
     },
     "metadata": {},
     "output_type": "display_data"
    },
    {
     "data": {
      "image/png": "[encoded data removed]",
      "text/plain": [
       "<Figure size 1440x288 with 5 Axes>"
      ]
     },
     "metadata": {},
     "output_type": "display_data"
    }
   ],
   "source": [
    "features = mu.get_features(execution_statistics)\n",
    "feature_baselines = mu.get_features(baseline_statistics)\n",
    "mu.show_distributions(features)"
   ]
  },
  {
   "cell_type": "markdown",
   "metadata": {},
   "source": [
    "### Execution Stats vs Baseline"
   ]
  },
  {
   "cell_type": "code",
   "execution_count": 73,
   "metadata": {},
   "outputs": [
    {
     "data": {
      "text/html": [
       "<h3>Numerical Features</h3>"
      ],
      "text/plain": [
       "<IPython.core.display.HTML object>"
      ]
     },
     "metadata": {},
     "output_type": "display_data"
    },
    {
     "data": {
      "text/html": [
       "<div>\n",
       "<style scoped>\n",
       "    .dataframe tbody tr th:only-of-type {\n",
       "        vertical-align: middle;\n",
       "    }\n",
       "\n",
       "    .dataframe tbody tr th {\n",
       "        vertical-align: top;\n",
       "    }\n",
       "\n",
       "    .dataframe thead th {\n",
       "        text-align: right;\n",
       "    }\n",
       "</style>\n",
       "<table border=\"1\" class=\"dataframe\">\n",
       "  <thead>\n",
       "    <tr style=\"text-align: right;\">\n",
       "      <th></th>\n",
       "      <th>num_present</th>\n",
       "      <th>num_missing</th>\n",
       "      <th>mean</th>\n",
       "      <th>sum</th>\n",
       "      <th>std_dev</th>\n",
       "      <th>min</th>\n",
       "      <th>max</th>\n",
       "    </tr>\n",
       "  </thead>\n",
       "  <tbody>\n",
       "    <tr>\n",
       "      <th>class_probabilities_&lt;UNK&gt;</th>\n",
       "      <td>1306</td>\n",
       "      <td>0</td>\n",
       "      <td>0.036205</td>\n",
       "      <td>47.284029</td>\n",
       "      <td>4.082800e-02</td>\n",
       "      <td>1.373700e-06</td>\n",
       "      <td>0.124787</td>\n",
       "    </tr>\n",
       "    <tr>\n",
       "      <th>class_probabilities___label__eating_out</th>\n",
       "      <td>1306</td>\n",
       "      <td>0</td>\n",
       "      <td>0.041647</td>\n",
       "      <td>54.390415</td>\n",
       "      <td>6.766435e-02</td>\n",
       "      <td>1.957000e-07</td>\n",
       "      <td>0.998757</td>\n",
       "    </tr>\n",
       "    <tr>\n",
       "      <th>class_probabilities___label__groceries</th>\n",
       "      <td>1306</td>\n",
       "      <td>0</td>\n",
       "      <td>0.094823</td>\n",
       "      <td>123.838483</td>\n",
       "      <td>2.619741e-01</td>\n",
       "      <td>5.250000e-08</td>\n",
       "      <td>0.999868</td>\n",
       "    </tr>\n",
       "    <tr>\n",
       "      <th>class_probabilities___label__transport</th>\n",
       "      <td>1306</td>\n",
       "      <td>0</td>\n",
       "      <td>0.114313</td>\n",
       "      <td>149.293094</td>\n",
       "      <td>2.558476e-01</td>\n",
       "      <td>6.400000e-09</td>\n",
       "      <td>0.996017</td>\n",
       "    </tr>\n",
       "    <tr>\n",
       "      <th>class_probabilities___label__shopping</th>\n",
       "      <td>1306</td>\n",
       "      <td>0</td>\n",
       "      <td>0.035557</td>\n",
       "      <td>46.436822</td>\n",
       "      <td>3.790597e-02</td>\n",
       "      <td>1.600000e-09</td>\n",
       "      <td>0.102824</td>\n",
       "    </tr>\n",
       "    <tr>\n",
       "      <th>class_probabilities___label__health</th>\n",
       "      <td>1306</td>\n",
       "      <td>0</td>\n",
       "      <td>0.089912</td>\n",
       "      <td>117.424772</td>\n",
       "      <td>2.624699e-01</td>\n",
       "      <td>1.770000e-08</td>\n",
       "      <td>0.998542</td>\n",
       "    </tr>\n",
       "    <tr>\n",
       "      <th>class_probabilities___label__travel</th>\n",
       "      <td>1306</td>\n",
       "      <td>0</td>\n",
       "      <td>0.017179</td>\n",
       "      <td>22.435423</td>\n",
       "      <td>3.231457e-02</td>\n",
       "      <td>7.000000e-09</td>\n",
       "      <td>0.996017</td>\n",
       "    </tr>\n",
       "    <tr>\n",
       "      <th>class_probabilities___label__entertainment</th>\n",
       "      <td>1306</td>\n",
       "      <td>0</td>\n",
       "      <td>0.024383</td>\n",
       "      <td>31.843740</td>\n",
       "      <td>2.581741e-02</td>\n",
       "      <td>8.100000e-09</td>\n",
       "      <td>0.063283</td>\n",
       "    </tr>\n",
       "    <tr>\n",
       "      <th>class_probabilities___label__education</th>\n",
       "      <td>1306</td>\n",
       "      <td>0</td>\n",
       "      <td>0.607845</td>\n",
       "      <td>793.846203</td>\n",
       "      <td>3.669745e-01</td>\n",
       "      <td>3.322600e-06</td>\n",
       "      <td>0.999998</td>\n",
       "    </tr>\n",
       "    <tr>\n",
       "      <th>class_probabilities___label__home</th>\n",
       "      <td>234</td>\n",
       "      <td>1072</td>\n",
       "      <td>0.715335</td>\n",
       "      <td>167.388462</td>\n",
       "      <td>2.775592e-01</td>\n",
       "      <td>2.754450e-05</td>\n",
       "      <td>0.998542</td>\n",
       "    </tr>\n",
       "    <tr>\n",
       "      <th>class_probabilities___label__utilities</th>\n",
       "      <td>3</td>\n",
       "      <td>1303</td>\n",
       "      <td>0.000070</td>\n",
       "      <td>0.000210</td>\n",
       "      <td>2.588011e-07</td>\n",
       "      <td>6.966080e-05</td>\n",
       "      <td>0.000070</td>\n",
       "    </tr>\n",
       "    <tr>\n",
       "      <th>class_probability</th>\n",
       "      <td>3</td>\n",
       "      <td>1303</td>\n",
       "      <td>0.997844</td>\n",
       "      <td>2.993531</td>\n",
       "      <td>1.291632e-03</td>\n",
       "      <td>9.960172e-01</td>\n",
       "      <td>0.998757</td>\n",
       "    </tr>\n",
       "  </tbody>\n",
       "</table>\n",
       "</div>"
      ],
      "text/plain": [
       "                                            num_present  num_missing  \\\n",
       "class_probabilities_<UNK>                   1306         0             \n",
       "class_probabilities___label__eating_out     1306         0             \n",
       "class_probabilities___label__groceries      1306         0             \n",
       "class_probabilities___label__transport      1306         0             \n",
       "class_probabilities___label__shopping       1306         0             \n",
       "class_probabilities___label__health         1306         0             \n",
       "class_probabilities___label__travel         1306         0             \n",
       "class_probabilities___label__entertainment  1306         0             \n",
       "class_probabilities___label__education      1306         0             \n",
       "class_probabilities___label__home           234          1072          \n",
       "class_probabilities___label__utilities      3            1303          \n",
       "class_probability                           3            1303          \n",
       "\n",
       "                                                mean         sum  \\\n",
       "class_probabilities_<UNK>                   0.036205  47.284029    \n",
       "class_probabilities___label__eating_out     0.041647  54.390415    \n",
       "class_probabilities___label__groceries      0.094823  123.838483   \n",
       "class_probabilities___label__transport      0.114313  149.293094   \n",
       "class_probabilities___label__shopping       0.035557  46.436822    \n",
       "class_probabilities___label__health         0.089912  117.424772   \n",
       "class_probabilities___label__travel         0.017179  22.435423    \n",
       "class_probabilities___label__entertainment  0.024383  31.843740    \n",
       "class_probabilities___label__education      0.607845  793.846203   \n",
       "class_probabilities___label__home           0.715335  167.388462   \n",
       "class_probabilities___label__utilities      0.000070  0.000210     \n",
       "class_probability                           0.997844  2.993531     \n",
       "\n",
       "                                                 std_dev           min  \\\n",
       "class_probabilities_<UNK>                   4.082800e-02  1.373700e-06   \n",
       "class_probabilities___label__eating_out     6.766435e-02  1.957000e-07   \n",
       "class_probabilities___label__groceries      2.619741e-01  5.250000e-08   \n",
       "class_probabilities___label__transport      2.558476e-01  6.400000e-09   \n",
       "class_probabilities___label__shopping       3.790597e-02  1.600000e-09   \n",
       "class_probabilities___label__health         2.624699e-01  1.770000e-08   \n",
       "class_probabilities___label__travel         3.231457e-02  7.000000e-09   \n",
       "class_probabilities___label__entertainment  2.581741e-02  8.100000e-09   \n",
       "class_probabilities___label__education      3.669745e-01  3.322600e-06   \n",
       "class_probabilities___label__home           2.775592e-01  2.754450e-05   \n",
       "class_probabilities___label__utilities      2.588011e-07  6.966080e-05   \n",
       "class_probability                           1.291632e-03  9.960172e-01   \n",
       "\n",
       "                                                 max  \n",
       "class_probabilities_<UNK>                   0.124787  \n",
       "class_probabilities___label__eating_out     0.998757  \n",
       "class_probabilities___label__groceries      0.999868  \n",
       "class_probabilities___label__transport      0.996017  \n",
       "class_probabilities___label__shopping       0.102824  \n",
       "class_probabilities___label__health         0.998542  \n",
       "class_probabilities___label__travel         0.996017  \n",
       "class_probabilities___label__entertainment  0.063283  \n",
       "class_probabilities___label__education      0.999998  \n",
       "class_probabilities___label__home           0.998542  \n",
       "class_probabilities___label__utilities      0.000070  \n",
       "class_probability                           0.998757  "
      ]
     },
     "metadata": {},
     "output_type": "display_data"
    },
    {
     "data": {
      "image/png": "[encoded data removed]",
      "text/plain": [
       "<Figure size 1440x864 with 15 Axes>"
      ]
     },
     "metadata": {},
     "output_type": "display_data"
    },
    {
     "data": {
      "text/html": [
       "<h3>String Features</h3>"
      ],
      "text/plain": [
       "<IPython.core.display.HTML object>"
      ]
     },
     "metadata": {},
     "output_type": "display_data"
    },
    {
     "data": {
      "text/html": [
       "<div>\n",
       "<style scoped>\n",
       "    .dataframe tbody tr th:only-of-type {\n",
       "        vertical-align: middle;\n",
       "    }\n",
       "\n",
       "    .dataframe tbody tr th {\n",
       "        vertical-align: top;\n",
       "    }\n",
       "\n",
       "    .dataframe thead th {\n",
       "        text-align: right;\n",
       "    }\n",
       "</style>\n",
       "<table border=\"1\" class=\"dataframe\">\n",
       "  <thead>\n",
       "    <tr style=\"text-align: right;\">\n",
       "      <th></th>\n",
       "      <th>num_present</th>\n",
       "      <th>num_missing</th>\n",
       "      <th>distinct_count</th>\n",
       "    </tr>\n",
       "  </thead>\n",
       "  <tbody>\n",
       "    <tr>\n",
       "      <th>class_predictions</th>\n",
       "      <td>1279</td>\n",
       "      <td>27</td>\n",
       "      <td>31.0</td>\n",
       "    </tr>\n",
       "  </tbody>\n",
       "</table>\n",
       "</div>"
      ],
      "text/plain": [
       "                   num_present  num_missing  distinct_count\n",
       "class_predictions  1279         27           31.0          "
      ]
     },
     "metadata": {},
     "output_type": "display_data"
    },
    {
     "data": {
      "image/png": "[encoded data removed]",
      "text/plain": [
       "<Figure size 1440x288 with 5 Axes>"
      ]
     },
     "metadata": {},
     "output_type": "display_data"
    }
   ],
   "source": [
    "mu.show_distributions(features, feature_baselines)"
   ]
  },
  {
   "cell_type": "code",
   "execution_count": null,
   "metadata": {},
   "outputs": [],
   "source": []
  }
 ],
 "metadata": {
  "kernelspec": {
   "display_name": "conda_python3",
   "language": "python",
   "name": "conda_python3"
  },
  "language_info": {
   "codemirror_mode": {
    "name": "ipython",
    "version": 3
   },
   "file_extension": ".py",
   "mimetype": "text/x-python",
   "name": "python",
   "nbconvert_exporter": "python",
   "pygments_lexer": "ipython3",
   "version": "3.6.5"
  }
 },
 "nbformat": 4,
 "nbformat_minor": 4
}
