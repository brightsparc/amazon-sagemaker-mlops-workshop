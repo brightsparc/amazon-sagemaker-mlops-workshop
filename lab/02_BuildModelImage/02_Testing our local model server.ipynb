{
 "cells": [
  {
   "cell_type": "markdown",
   "metadata": {},
   "source": [
    "## First, let's  test the ping method (GET /ping)\n",
    "This method will be used by Sagemaker for health check our model. It must return a code **200**."
   ]
  },
  {
   "cell_type": "code",
   "execution_count": null,
   "metadata": {},
   "outputs": [],
   "source": [
    "import json\n",
    "from urllib import request\n",
    "\n",
    "base_url='http://localhost:8080'"
   ]
  },
  {
   "cell_type": "code",
   "execution_count": null,
   "metadata": {
    "scrolled": true
   },
   "outputs": [],
   "source": [
    "%%time\n",
    "\n",
    "resp = request.urlopen(\"%s/ping\" % base_url)\n",
    "print(\"Response code: %d\" % resp.getcode() )"
   ]
  },
  {
   "cell_type": "markdown",
   "metadata": {},
   "source": [
    "## Then we can the predictions (POST /invocations)\n",
    "This method will be used by Sagemaker for the predictions. Here we're simulating the header parameter related to the CustomAttributes"
   ]
  },
  {
   "cell_type": "code",
   "execution_count": null,
   "metadata": {},
   "outputs": [],
   "source": [
    "import glob\n",
    "import os\n",
    "import pandas as pd\n",
    "\n",
    "def read_csv_dataframe(path, engine='python'):\n",
    "    files = glob.glob(os.path.join(path, '*.csv'))\n",
    "    if len(files) > 0:\n",
    "        return pd.concat([pd.read_csv(fn, engine=engine) for fn in files], axis=0, ignore_index=True)\n",
    "\n",
    "# Load sample data\n",
    "df_test = read_csv_dataframe('input/data/validation')\n",
    "df_test.head()"
   ]
  },
  {
   "cell_type": "code",
   "execution_count": null,
   "metadata": {},
   "outputs": [],
   "source": [
    "# Print the unique list of classes\n",
    "labels = df_test.groupby('class')['amount'].agg(['min','mean','max'])\n",
    "# Tidy up the index\n",
    "labels.index = labels.index.str.replace('__label__', '').str.replace('_', ' ')\n",
    "labels"
   ]
  },
  {
   "cell_type": "code",
   "execution_count": null,
   "metadata": {
    "scrolled": true
   },
   "outputs": [],
   "source": [
    "%%time\n",
    "payload = df_test.to_csv(index=False).encode('utf-8')\n",
    "# Pass request for returning headers\n",
    "headers = {\"Content-type\": \"text/csv\",\"X-Amzn-SageMaker-Custom-Attributes\":\"Headers\"}\n",
    "req = request.Request(\"%s/invocations\" % base_url, data=payload, headers=headers)\n",
    "resp = request.urlopen(req)\n",
    "response = resp.read().decode('utf-8')\n",
    "print(\"Response code: %d: %s %d characters\" % (resp.getcode(), resp.getheader('Content-Type'), len(response)))"
   ]
  },
  {
   "cell_type": "code",
   "execution_count": null,
   "metadata": {},
   "outputs": [],
   "source": [
    "!mkdir -p output/data\n",
    "\n",
    "# Save and display the predictions\n",
    "from io import StringIO\n",
    "df_pred = pd.read_csv(StringIO(response))\n",
    "df_pred[['class_predictions','class_probability']].head()"
   ]
  },
  {
   "cell_type": "markdown",
   "metadata": {},
   "source": [
    "Verify that we can all pass JSON payload and get back CSV"
   ]
  },
  {
   "cell_type": "code",
   "execution_count": null,
   "metadata": {},
   "outputs": [],
   "source": [
    "%%time\n",
    "payload = df_test.to_json().encode('utf-8')\n",
    "headers = {\"Content-type\": \"application/json\"}\n",
    "req = request.Request(\"%s/invocations\" % base_url, data=payload, headers=headers)\n",
    "resp = request.urlopen(req)\n",
    "print(\"Response code: %d: %s\" % (resp.getcode(), resp.getheader('Content-Type')))"
   ]
  },
  {
   "cell_type": "markdown",
   "metadata": {},
   "source": [
    "### Validate Results\n",
    "\n",
    "Lets look at the precision metric"
   ]
  },
  {
   "cell_type": "code",
   "execution_count": null,
   "metadata": {},
   "outputs": [],
   "source": [
    "from sklearn.metrics import precision_score\n",
    "avg_prec_micro = precision_score(df_test['class'], df_pred['class_predictions'], average='micro')\n",
    "avg_prec_macro = precision_score(df_test['class'], df_pred['class_predictions'], average='macro')\n",
    "print('avg_precision_micro: {}, avg_precision_macro: {}'.format(avg_prec_micro, avg_prec_macro))"
   ]
  },
  {
   "cell_type": "markdown",
   "metadata": {},
   "source": [
    "Inspect the confusion matrix"
   ]
  },
  {
   "cell_type": "code",
   "execution_count": null,
   "metadata": {},
   "outputs": [],
   "source": [
    "from sklearn.metrics import confusion_matrix\n",
    "import numpy as np\n",
    "import matplotlib.pyplot as plt\n",
    "%matplotlib inline\n",
    "\n",
    "def plot_confusion_matrix(cm, label_names, title='Confusion matrix', cmap=plt.cm.Blues):\n",
    "    plt.imshow(cm, interpolation='nearest', cmap=cmap)\n",
    "    plt.title(title)\n",
    "    plt.colorbar()\n",
    "    tick_marks = np.arange(len(label_names))\n",
    "    plt.xticks(tick_marks, label_names, rotation=45)\n",
    "    plt.yticks(tick_marks, label_names)\n",
    "    plt.tight_layout()\n",
    "    plt.ylabel('True label')\n",
    "    plt.xlabel('Predicted label')\n",
    "    \n",
    "cm = confusion_matrix(df_test['class'], df_pred['class_predictions'])\n",
    "plt.figure(figsize=(15,10))\n",
    "plot_confusion_matrix(cm, labels.index.values)\n",
    "plt.show()\n",
    "\n",
    "print(cm)"
   ]
  },
  {
   "cell_type": "markdown",
   "metadata": {},
   "source": [
    "## Now, you can go back to the previous Jupyter, stop it and continue executing it"
   ]
  },
  {
   "cell_type": "code",
   "execution_count": null,
   "metadata": {},
   "outputs": [],
   "source": []
  }
 ],
 "metadata": {
  "kernelspec": {
   "display_name": "conda_python3",
   "language": "python",
   "name": "conda_python3"
  },
  "language_info": {
   "codemirror_mode": {
    "name": "ipython",
    "version": 3
   },
   "file_extension": ".py",
   "mimetype": "text/x-python",
   "name": "python",
   "nbconvert_exporter": "python",
   "pygments_lexer": "ipython3",
   "version": "3.6.5"
  }
 },
 "nbformat": 4,
 "nbformat_minor": 2
}
