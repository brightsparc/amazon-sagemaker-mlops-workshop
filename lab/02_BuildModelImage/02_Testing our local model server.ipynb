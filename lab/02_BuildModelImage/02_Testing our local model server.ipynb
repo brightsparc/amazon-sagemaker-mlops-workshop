{
 "cells": [
  {
   "cell_type": "markdown",
   "metadata": {},
   "source": [
    "## First, let's  test the ping method (GET /ping)\n",
    "This method will be used by Sagemaker for health check our model. It must return a code **200**."
   ]
  },
  {
   "cell_type": "code",
   "execution_count": null,
   "metadata": {},
   "outputs": [],
   "source": [
    "import json\n",
    "from urllib import request\n",
    "\n",
    "base_url='http://localhost:8080'"
   ]
  },
  {
   "cell_type": "code",
   "execution_count": null,
   "metadata": {
    "scrolled": true
   },
   "outputs": [],
   "source": [
    "resp = request.urlopen(\"%s/ping\" % base_url)\n",
    "print(\"Response code: %d\" % resp.getcode() )"
   ]
  },
  {
   "cell_type": "markdown",
   "metadata": {},
   "source": [
    "## Then we can the predictions (POST /invocations)\n",
    "This method will be used by Sagemaker for the predictions. Here we're simulating the header parameter related to the CustomAttributes"
   ]
  },
  {
   "cell_type": "code",
   "execution_count": null,
   "metadata": {},
   "outputs": [],
   "source": [
    "import pandas as pd\n",
    "\n",
    "iris = pd.read_csv('iris.csv')\n",
    "\n",
    "payload = iris.drop(['Sepal.Length'], axis=1).head().to_csv(index=False).encode('utf-8')\n",
    "payload"
   ]
  },
  {
   "cell_type": "code",
   "execution_count": null,
   "metadata": {
    "scrolled": true
   },
   "outputs": [],
   "source": [
    "%%time\n",
    "\n",
    "headers={\"Content-type\": \"text/csv\"}\n",
    "\n",
    "def predict(payload, headers):\n",
    "    req = request.Request(\"%s/invocations\" % base_url, data=payload, headers=headers)\n",
    "    resp = request.urlopen(req)\n",
    "    print(\"Response code: %d, Payload: [%s]\" % (resp.getcode(), json.loads(resp.read())))\n",
    "    \n",
    "predict(payload, headers)"
   ]
  },
  {
   "cell_type": "markdown",
   "metadata": {},
   "source": [
    "## Now, you can go back to the previous Jupyter, stop it and continue executing it"
   ]
  }
 ],
 "metadata": {
  "kernelspec": {
   "display_name": "conda_python3",
   "language": "python",
   "name": "conda_python3"
  },
  "language_info": {
   "codemirror_mode": {
    "name": "ipython",
    "version": 3
   },
   "file_extension": ".py",
   "mimetype": "text/x-python",
   "name": "python",
   "nbconvert_exporter": "python",
   "pygments_lexer": "ipython3",
   "version": "3.6.5"
  }
 },
 "nbformat": 4,
 "nbformat_minor": 2
}
